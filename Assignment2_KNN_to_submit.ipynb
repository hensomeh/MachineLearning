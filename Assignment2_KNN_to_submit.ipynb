{
 "cells": [
  {
   "cell_type": "markdown",
   "metadata": {},
   "source": [
    "# Assignment 2 - KNN (K-Nearest Neighbors) - our 1st classifier\n",
    "\n",
    "Motivation - The Titanic dataset: <br/>\n",
    "<img src=\"./images/ships-titanic-vehicles-best.jpg\" Width=\"800\"/>"
   ]
  },
  {
   "cell_type": "markdown",
   "metadata": {},
   "source": [
    "<h2><u>Titanic dataset information</u>:</h2><br/>\n",
    "<table align='left'>\n",
    "    <tr><td align='left'>\n",
    "        <div style=\"text-align:left;font-size:125%\"><b><u>Feature Set</u></b>:</div><br/>\n",
    "        <div style=\"text-align:left;font-size:115%\">Dataset includes <u>7 features</u>:</div><br/>\n",
    "        <ul style=\"list-style-type:circle;text-align:left;font-size:115%\">\n",
    "            <li><b>Pclass</b> Passenger Class (discrete number: 1 = 1st class; 2 = 2nd class; 3 = 3rd class)</li>\n",
    "            <li><b>Gender</b> - passanger's age (categorial: 'female', 'male')</li>\n",
    "            <li><b>Age</b> - passanger's age (continuous number: <= 80)</li>\n",
    "            <li><b>SibSp</b> - Number of Siblings/Spouses Aboard (discrete number)</li>\n",
    "            <li><b>Parch</b> - Number of Parents/Children Aboard (discrete number)</li>\n",
    "            <li><b>fare</b> - Passenger Fare (British pound) - how much did the fare cost (continuous number)</li>\n",
    "            <li><b>Embarked</b> - Port of Embarkation (categorial: 'C'=Cherbourg; 'Q'=Queenstown; 'S'= Southampton)</li>\n",
    "        </ul><br/>\n",
    "        <div style=\"text-align:left;font-size:125%\"><b><u>Categories</u></b>:</div><br/>\n",
    "        <div style=\"text-align:left;font-size:115%\">Dataset includes <u>2 categories</u>:</div><br/>\n",
    "        <div style=\"text-align:left;font-size:115%\">- <u>The categories</u>, refer to the survival of the passenger (did they survive?):</div>\n",
    "        <div style=\"text-align:left;font-size:115%\">- (category values are discrete numbers:) <b>0</b>=No; <b>1</b>=Yes</div><br/><br/>\n",
    "        <div style=\"text-align:left;font-size:125%\"><b><u>Indexes</u></b>:</div><br/>\n",
    "        <div style=\"text-align:left;font-size:115%\"><u>The index</u>, refer to the passenger-id:</div><br/>\n",
    "        <ul style=\"list-style-type:circle;text-align:left;font-size:115%\">\n",
    "            <li>(indexes are discrete numbers:) start from <b>1</b></li>\n",
    "            <li><u>Note</u>: the indexes are <u>NOT</u> row numbers, do not get confused</li>\n",
    "        </ul>\n",
    "    </td></tr>\n",
    "</table>   \n"
   ]
  },
  {
   "cell_type": "markdown",
   "metadata": {},
   "source": [
    "## General instructions:\n",
    "Please Read the following instructions, and make sure you follow all steps, before submiting your assignment via moodle:\n",
    "- Put your code one line after the '# YOUR CODE HERE' remark\n",
    "- You must remove the 'raise NotImplementedError()' exception raising line (which appears a line after the above remark).\n",
    "    * if you do not remove this line, it will be a sign that you didn't implement that code, and we won't be able to check your work\n",
    "- Do NOT remove any other line in this notebook    \n",
    "- you also need to implement the two functions 'myName', 'myId'\n",
    "    * myName - you need to return your full name as a string\n",
    "    * myId - you need to return your ID number as a an integer    \n",
    "- When you want to check your work, select the 'Cell' --> 'Run All' menu\n",
    "    * before performing your filnal test, we suggest to clear previous output (by selecting 'Cell' --> 'All output' --> 'Clear' menu) and then reperform the final execution ('Cell' --> 'Run All') of the code.\n",
    "    * after performing 'Run All', make sure there are no exceptions thrown and that the output is as you expected.\n",
    "- Don't forget to save your work, by clicking the 'save' icon (in the upper left part of the screen), or by selecting the 'File' --> 'Save and checkpoint' menu item. \n",
    "- Do NOT change the file name of this notebook\n",
    "- The work is done individualy, for each student\n",
    "- Each student needs to submit his/her assignment through moodle.\n",
    "- Submit the python notebook only (not any additional possible files) \n",
    "<br/><br/>\n",
    "Good Luck :-)<br/>\n",
    "The courses staff"
   ]
  },
  {
   "cell_type": "markdown",
   "metadata": {},
   "source": [
    "## Assignmet 2 - 1st claissifier - KNN (K-Nearest Neighbors) - total of 10 points\n",
    "<u>The assignment consists of 5 parts</u>:<br/>\n",
    "* preceding step - import packages\n",
    "* part 1 - Student information methods ----> needs stundent implementation\n",
    "* Part 2 - load the Titanic dataset ----> run only\n",
    "* Part 3 - ditance metrics  ----> needs stundent implementation - 4 point  \n",
    "  * Part 3a - Manhattan ditance ----> needs stundent implementation \n",
    "  * Part 3b - Euclidian ditance ---->  needs stundent implementation\n",
    "  * Part 3c - Chebyshev ditance ---->  needs stundent implementation\n",
    "* part 4 - Knn predict  ----> needs stundent implementation - 4 point\n",
    "  * Part 4a - distance wrapper (vs all train set) ----> run only\n",
    "  * Part 4b - predict new example ----> needs stundent implementation - total 4 points\n",
    "  * Part 4a - predict wrapper (predict all testset examples) ----> run only\n",
    "* part 5 - Evaluation (accuracy) ----> needs stundent implementation - 2 point"
   ]
  },
  {
   "cell_type": "markdown",
   "metadata": {},
   "source": [
    "## Preceding Step - import packages\n",
    "This step is necessary in order to use external packages. <br/><br/>\n",
    "<u>Exteranl packages include</u>: \n",
    "* pandas - which we use mainly for dataframes and series\n",
    "* numpy - which we use for advance operations, such as unique values of arrays\n",
    "* math - for math functions, like sqrt\n",
    "* os - internal use"
   ]
  },
  {
   "cell_type": "code",
   "execution_count": 90,
   "metadata": {
    "deletable": false,
    "editable": false,
    "nbgrader": {
     "cell_type": "code",
     "checksum": "ac670db6e33febe645c6ccb56dc060a2",
     "grade": false,
     "grade_id": "run-import",
     "locked": true,
     "schema_version": 3,
     "solution": false,
     "task": false
    }
   },
   "outputs": [],
   "source": [
    "# --------------------------------------------------------\n",
    "# NO IMPLEMENTAION - DO NO CHANGE - RUN ONLY\n",
    "# --------------------------------------------------------\n",
    "import pandas as pd\n",
    "import numpy as np\n",
    "import matplotlib.pyplot as plt\n",
    "import math \n",
    "import os"
   ]
  },
  {
   "cell_type": "markdown",
   "metadata": {},
   "source": [
    "### Part 1 - Student information methods:\n",
    "The following 2 cells consist of 2 methods which aim to validate your details.<br/>\n",
    "Please <b>make sure to implement <u>both</u> of them</b>"
   ]
  },
  {
   "cell_type": "markdown",
   "metadata": {},
   "source": [
    "<u>Part 1 Student information methods</u>:<br/>\n",
    "<u>method name</u>: <b>myName</b><br/>\n",
    "<pre>\n",
    "The following is expected:\n",
    "--- the method needs to return your full name (as a string)\n",
    "    For example: assume your name is John Smith, you should write:\n",
    "    return 'John Smith'\n",
    "------------\n",
    "return value:\n",
    "- your full name (as a string)\n",
    "---------------------\n",
    "--- General notes:\n",
    "Don't forget to remove the 'raise NotImplementedError()' line.\n",
    "In the line following the '# YOUR CODE HERE' line, add your code\n",
    "---------------------\n",
    "</pre>"
   ]
  },
  {
   "cell_type": "code",
   "execution_count": 91,
   "metadata": {
    "deletable": false,
    "nbgrader": {
     "cell_type": "code",
     "checksum": "c595f11fc929d4b77957a0c4ea39ebf3",
     "grade": false,
     "grade_id": "myName-answer",
     "locked": false,
     "schema_version": 3,
     "solution": true,
     "task": false
    }
   },
   "outputs": [],
   "source": [
    "# --------------------------------------------------------\n",
    "# IMPLEMENTATION CELL\n",
    "# --------------------------------------------------------\n",
    "\n",
    "# --------------------------------------------------------\n",
    "# YOU MUST RUN THIS NOTEBOOK CELL\n",
    "# --------------------------------------------------------\n",
    "\n",
    "# --------------------------------------------------------\n",
    "# method name: myName\n",
    "# --------------------------------------------------------\n",
    "def myName():\n",
    "    return \"Hen Haim Someh\""
   ]
  },
  {
   "cell_type": "markdown",
   "metadata": {},
   "source": [
    "<u>Part 1 Student information methods</u>:<br/>\n",
    "<u>method name</u>: <b>myId</b><br/>\n",
    "<pre>\n",
    "The following is expected:\n",
    "--- the method needs to return your ID number (as an integer number)\n",
    "    For example: assume your ID number is 1234, you should write:\n",
    "    return 1234\n",
    "------------\n",
    "return value:\n",
    "- your ID number (as an integer number)\n",
    "---------------------\n",
    "--- General notes:\n",
    "Don't forget to remove the 'raise NotImplementedError()' line.\n",
    "In the line following the 'YOUR CODE HERE' line, add your code\n",
    "---------------------\n",
    "</pre>"
   ]
  },
  {
   "cell_type": "code",
   "execution_count": 92,
   "metadata": {
    "deletable": false,
    "nbgrader": {
     "cell_type": "code",
     "checksum": "cd86e2e5bd34dbc752e47c5a08f57496",
     "grade": false,
     "grade_id": "myId-answer",
     "locked": false,
     "schema_version": 3,
     "solution": true,
     "task": false
    }
   },
   "outputs": [],
   "source": [
    "# --------------------------------------------------------\n",
    "# IMPLEMENTATION CELL\n",
    "# --------------------------------------------------------\n",
    "\n",
    "# --------------------------------------------------------\n",
    "# YOU MUST RUN THIS NOTEBOOK CELL\n",
    "# --------------------------------------------------------\n",
    "\n",
    "# --------------------------------------------------------\n",
    "# method name: myId\n",
    "# --------------------------------------------------------\n",
    "def myId():\n",
    "    return 313468654"
   ]
  },
  {
   "cell_type": "markdown",
   "metadata": {},
   "source": [
    "<u>Part 1 Student information method - test</u><br/>\n",
    "* Test of 'myName' and 'myId' methods implementation  \n",
    "* It tests the correctness their implementation\n",
    "\n",
    "<u>Important Notes</u>:<br/>\n",
    "* This test cell MUST NOT raise any exception\n",
    "* It must pass all tests \n",
    "* Do NOT change or delete this cell"
   ]
  },
  {
   "cell_type": "code",
   "execution_count": 93,
   "metadata": {
    "deletable": false,
    "editable": false,
    "nbgrader": {
     "cell_type": "code",
     "checksum": "d3e63ef29ed8dfc20769f71680b64d12",
     "grade": true,
     "grade_id": "test-myName-myId",
     "locked": true,
     "points": 0,
     "schema_version": 3,
     "solution": false,
     "task": false
    }
   },
   "outputs": [
    {
     "name": "stdout",
     "output_type": "stream",
     "text": [
      "'myName' method validation is successfull!\n",
      "your name is: Hen Haim Someh\n",
      "--------------------------------------\n",
      "'myId' method validation is successfull!\n",
      "your id is: 313468654\n"
     ]
    }
   ],
   "source": [
    "# --------------------------------------------------------\n",
    "# TEST ONLY CELL - DO NO CHANGE - RUN ONLY CELL\n",
    "# --------------------------------------------------------\n",
    "\n",
    "# --------------------------------------------------------\n",
    "# Test:\n",
    "## the 'myName' and the 'myId' methods implementation \n",
    "# --------------------------------------------------------\n",
    "aName = myName()\n",
    "aId = myId()\n",
    "assert aName is not None, 'no return student name'\n",
    "assert type(aName) is str, \"name is not a string: %r\" % aName\n",
    "print (\"'myName' method validation is successfull!\")\n",
    "print (\"your name is: %s\" %(aName))\n",
    "print (\"--------------------------------------\")\n",
    "assert aId is not None, 'no return student id'\n",
    "assert type(aId) is int, \"id is not an integer: %r\" % aId\n",
    "print (\"'myId' method validation is successfull!\")\n",
    "print (\"your id is: %d\" %(aId))\n",
    "\n",
    "\n",
    "## END OF 'myName' and 'myId' implementation validation\n",
    "# --------------------------------------------------------"
   ]
  },
  {
   "cell_type": "markdown",
   "metadata": {},
   "source": [
    "### Part 2 - Loading dataset  ----> run only\n",
    "<img src=\"./images/load_dataframe.jpg\" alt=\"load dataframe\" width=\"100\" align='left'/>"
   ]
  },
  {
   "cell_type": "code",
   "execution_count": 94,
   "metadata": {
    "deletable": false,
    "editable": false,
    "nbgrader": {
     "cell_type": "code",
     "checksum": "c2f3f9ac7bad700d66c34a71d9aefc79",
     "grade": false,
     "grade_id": "run-load_dataframe_fromCsv",
     "locked": true,
     "schema_version": 3,
     "solution": false,
     "task": false
    }
   },
   "outputs": [
    {
     "name": "stdout",
     "output_type": "stream",
     "text": [
      "loading Titanic dataset ...\n",
      "... done\n",
      "---------------------------------------\n",
      "before split (feature vectors from categories) information:\n",
      "number of rows: 888\n",
      "number of columns: 8\n",
      "---------------------------------------\n",
      "after split (feature vectors from categories) information:\n",
      "number of features (columns) in the feature set: 7\n",
      "Feature names:\n",
      "['Pclass', 'Gender', 'Age', 'SibSp', 'Parch', 'Fare', 'Embarked']\n",
      "\t\t---> each feature vector has a value for every feature\n",
      "---------------------------------------\n",
      "\n",
      "The dataset includes 888 instances (aka feature vectors)\n",
      "----\n",
      "first few instances:\n",
      "             Pclass  Gender   Age  SibSp  Parch     Fare Embarked\n",
      "PassengerId                                                      \n",
      "1                 3    male  22.0      1      0   7.2500        S\n",
      "2                 1  female  38.0      1      0  71.2833        C\n",
      "3                 3  female  26.0      0      0   7.9250        S\n",
      "4                 1  female  35.0      1      0  53.1000        S\n",
      "5                 3    male  35.0      0      0   8.0500        S\n",
      "---------------------------------------\n",
      "\n",
      "The dataset includes 888 categories (each category corresponds to the parallel feature vector)\n",
      "----\n",
      "first few categories:\n",
      "PassengerId\n",
      "1    0\n",
      "2    1\n",
      "3    1\n",
      "4    1\n",
      "5    0\n",
      "Name: Survived, dtype: int64\n",
      "---------------------------------------\n"
     ]
    }
   ],
   "source": [
    "# --------------------------------------------------------\n",
    "# NO IMPLEMENTAION - DO NO CHANGE - RUN ONLY\n",
    "# --------------------------------------------------------\n",
    "\n",
    "# --------------------------------------------------------\n",
    "# load dataframe from csv:\n",
    "# --------------------------------------------------------\n",
    "\n",
    "#--------------------------------------------------------\n",
    "print ('loading Titanic dataset ...')\n",
    "fileName = 'data' + os.sep + 'titanic_dataset.csv'\n",
    "dataframe = pd.read_csv(fileName,index_col='PassengerId')\n",
    "print ('... done')\n",
    "print ('---------------------------------------')\n",
    "print ('before split (feature vectors from categories) information:')\n",
    "print ('number of rows: %d' %(dataframe.shape[0]))\n",
    "print ('number of columns: %d' %(dataframe.shape[1]))\n",
    "print ('---------------------------------------')\n",
    "# --------------------------------------------------------\n",
    "# display the feature information:\n",
    "# --------------------------------------------------------\n",
    "xTitanicInstances = dataframe.drop('Survived',axis=1)\n",
    "yTitanicCategories = dataframe['Survived']\n",
    "print ('after split (feature vectors from categories) information:')\n",
    "print ('number of features (columns) in the feature set: %d' %(xTitanicInstances.shape[1]))\n",
    "featureNames = [col for col in xTitanicInstances.columns]\n",
    "print('Feature names:')\n",
    "print(featureNames)\n",
    "print ('\\t\\t---> each feature vector has a value for every feature')\n",
    "print ('---------------------------------------')\n",
    "# --------------------------------------------------------\n",
    "# display the first few rows of the feature vectors:\n",
    "# --------------------------------------------------------\n",
    "print('\\nThe dataset includes %d instances (aka feature vectors)' %(xTitanicInstances.shape[0]))\n",
    "print('----\\nfirst few instances:')\n",
    "print (xTitanicInstances.head())\n",
    "print ('---------------------------------------')\n",
    "# --------------------------------------------------------\n",
    "# display the first few rows of the categories:\n",
    "# --------------------------------------------------------\n",
    "print('\\nThe dataset includes %d categories (each category corresponds to the parallel feature vector)' %(yTitanicCategories.shape[0]))\n",
    "print('----\\nfirst few categories:')\n",
    "print (yTitanicCategories.head())\n",
    "print ('---------------------------------------')"
   ]
  },
  {
   "cell_type": "markdown",
   "metadata": {},
   "source": [
    "### Part 3 - (vector) distance metrics ----> needs stundent implementation - 4 point\n",
    "<img src=\"./images/distance_metrics.jpg\" alt=\"load dataframe\" width=\"600\" align='left'/>"
   ]
  },
  {
   "cell_type": "markdown",
   "metadata": {},
   "source": [
    "### Part 3 - (vector) distance metrics ----> needs stundent implementation - 4 point\n",
    "  * Part 3a - Manhattan distance ----> needs stundent implementation - total 1 points (for test)\n",
    "  * Part 3b - Euclidean distance ----> needs stundent implementation - total 1 points (for test)\n",
    "  * Part 3b - Chebyshev distance ----> needs stundent implementation - total 1 points (for test)\n",
    "  * Part 3d - Extra tests - total 1 points"
   ]
  },
  {
   "cell_type": "markdown",
   "metadata": {},
   "source": [
    "#### Part 3a - Manhattan distance  ----> needs stundent implementation - 1 point\n",
    "<img src=\"./images/manhattan.jpg\" alt=\"Manhattan distance\" width=\"350\" align='left'/>"
   ]
  },
  {
   "cell_type": "markdown",
   "metadata": {},
   "source": [
    "<u>Part 3a - Manhattan Distance</u> ----> needs stundent implementation - 1 point<br/>\n",
    "<u>method name</u>: <b>calc_manhattan_vector_dist</b><br/>\n",
    "\n",
    "<pre>\n",
    "The following is expected:\n",
    "- Change the following function to return the Manhattan distastance between two vectors (series) from the test and train\n",
    "  ---- the xSeriesTestVector and xSeriesTrainVector are siries and consist of a single row (from train and test correspondigly) \n",
    "------------\n",
    "input parameter:\n",
    "- xSeriesTestVector  - feature vector (series) from the test set\n",
    "- xSeriesTrainVector - feature vector (series) from the train set\n",
    "------------\n",
    "return value:\n",
    "- dist - a scalar (number) containing the distance between the two vectors (floating point)\n",
    "---------------------\n",
    "---------------------\n",
    "--- General notes:\n",
    "Don't forget to remove the 'raise NotImplementedError()' line.\n",
    "In the line following the '# YOUR CODE HERE' line, add your code\n",
    "---------------------\n",
    "</pre>"
   ]
  },
  {
   "cell_type": "code",
   "execution_count": 95,
   "metadata": {
    "deletable": false,
    "nbgrader": {
     "cell_type": "code",
     "checksum": "2e678fff669e8ebc9faa2a793896558b",
     "grade": false,
     "grade_id": "calc_manhattan_vector_dist-answer",
     "locked": false,
     "schema_version": 3,
     "solution": true,
     "task": false
    }
   },
   "outputs": [],
   "source": [
    "# --------------------------------------------------------\n",
    "# IMPLEMENTATION CELL - RUN AFTER IMPLEMENTATION\n",
    "# --------------------------------------------------------\n",
    "\n",
    "# --------------------------------------------------------\n",
    "# Grading - Maximum points: 1\n",
    "# --------------------------------------------------------\n",
    "\n",
    "# --------------------------------------------------------\n",
    "# method name: calc_manhattan_vector_dist\n",
    "# --------------------------------------------------------\n",
    "def calc_manhattan_vector_dist(xSeriesTestVector,xSeriesTrainVector):\n",
    "    return np.sum(np.abs(xSeriesTestVector - xSeriesTrainVector))"
   ]
  },
  {
   "cell_type": "markdown",
   "metadata": {},
   "source": [
    "<u>Part 3a - Manhattan Distance - <b>test</b></u> (1 point)<br/>\n",
    "* Test of the 'calc_manhattan_vector_dist' method implementation  \n",
    "\n",
    "<u>Important Notes</u>:<br/>\n",
    "* This test cell MUST NOT raise any exception\n",
    "* It must pass all tests \n",
    "* Do NOT change or delete this cell\n",
    "* additional tests might be performed"
   ]
  },
  {
   "cell_type": "code",
   "execution_count": 96,
   "metadata": {
    "deletable": false,
    "editable": false,
    "nbgrader": {
     "cell_type": "code",
     "checksum": "278230de007cafe462ae5b04757ce1b9",
     "grade": true,
     "grade_id": "test-calc_manhattan_vector_dist",
     "locked": true,
     "points": 1,
     "schema_version": 3,
     "solution": false,
     "task": false
    }
   },
   "outputs": [
    {
     "name": "stdout",
     "output_type": "stream",
     "text": [
      "testing implementation of the 'calc_manhattan_vector_dist' method ...\n",
      "----> The 'calc_manhattan_vector_dist' test passed successfully :-) \n",
      "\n",
      "[3 1 0]\n",
      "[3 3 1]\n",
      "Manhattan Distance calculated successfuly: 3\n",
      "----> The 'calc_manhattan_vector_dist' test passed successfully :-) \n",
      "\n",
      "note: Additional Tests might be executed on our side\n"
     ]
    }
   ],
   "source": [
    "# --------------------------------------------------------\n",
    "# TEST ONLY CELL - DO NO CHANGE - RUN ONLY\n",
    "# --------------------------------------------------------\n",
    "\n",
    "# --------------------------------------------------------\n",
    "# Test the:\n",
    "## 'calc_manhattan_vector_dist' method implementation \n",
    "# --------------------------------------------------------\n",
    "\n",
    "#--------------------------------------------------------\n",
    "print (\"testing implementation of the 'calc_manhattan_vector_dist' method ...\") \n",
    "\n",
    "# --------------------------------------------------------\n",
    "# if no exception was thrown by this point, the student side tests were successful:\n",
    "print (\"----> The 'calc_manhattan_vector_dist' test passed successfully :-) \\n\")\n",
    "fileName = 'data' + os.sep + 'titanic_dataset.csv'\n",
    "dataframe = pd.read_csv(fileName,index_col='PassengerId')\n",
    "xTitanicInstances = dataframe.drop('Survived',axis=1)\n",
    "yTitanicCategories = dataframe['Survived']\n",
    "inst0 = xTitanicInstances[['Pclass','SibSp','Parch']].iloc[0]\n",
    "inst7 = xTitanicInstances[['Pclass','SibSp','Parch']].iloc[7]\n",
    "print (inst0.values)\n",
    "print (inst7.values)\n",
    "dist = calc_manhattan_vector_dist(inst0,inst7)\n",
    "assert dist== 3, 'unexpected manhattan distance: %f' %(dist)\n",
    "print ('Manhattan Distance calculated successfuly: %d' %(dist))\n",
    "# --------------------------------------------------------\n",
    "# if no exception was thrown by this point, the student side tests were successful:\n",
    "print (\"----> The 'calc_manhattan_vector_dist' test passed successfully :-) \\n\")\n",
    "\n",
    "print ('note: Additional Tests might be executed on our side')  "
   ]
  },
  {
   "cell_type": "markdown",
   "metadata": {},
   "source": [
    "#### Part 3b - Euclidean distance  ----> needs stundent implementation - 1 point\n",
    "<img src=\"./images/euclides.jpg\" alt=\"Euclidean distance\" width=\"300\" align='left'/>"
   ]
  },
  {
   "cell_type": "markdown",
   "metadata": {},
   "source": [
    "<u>Part 3b - Euclidean Distance</u> ----> needs stundent implementation - 1 point<br/>\n",
    "<u>method name</u>: <b>calc_euclidean_vector_dist</b><br/>\n",
    "\n",
    "<pre>\n",
    "The following is expected:\n",
    "- Change the following function to return the Euclidean distastance between two vectors (series) from the test and train\n",
    "  ---- the xSeriesTestVector and xSeriesTrainVector are siries and consist of a single row (from train and test correspondigly) \n",
    "------------\n",
    "input parameter:\n",
    "- xSeriesTestVector  - feature vector (series) from the test set\n",
    "- xSeriesTrainVector - feature vector (series) from the train set\n",
    "------------\n",
    "return value:\n",
    "- dist - a scalar (number) containing the distance between the two vectors (floating point)\n",
    "---------------------\n",
    "---------------------\n",
    "--- General notes:\n",
    "Don't forget to remove the 'raise NotImplementedError()' line.\n",
    "In the line following the '# YOUR CODE HERE' line, add your code\n",
    "---------------------\n",
    "</pre>"
   ]
  },
  {
   "cell_type": "code",
   "execution_count": 97,
   "metadata": {
    "deletable": false,
    "nbgrader": {
     "cell_type": "code",
     "checksum": "c46cb2bc88b75da60f2587d3c51fbe28",
     "grade": false,
     "grade_id": "calc_euclidean_vector_dist-answer",
     "locked": false,
     "schema_version": 3,
     "solution": true,
     "task": false
    }
   },
   "outputs": [],
   "source": [
    "# --------------------------------------------------------\n",
    "# IMPLEMENTATION CELL - RUN AFTER IMPLEMENTATION\n",
    "# --------------------------------------------------------\n",
    "\n",
    "# --------------------------------------------------------\n",
    "# Grading - Maximum points: 1\n",
    "# --------------------------------------------------------\n",
    "\n",
    "# --------------------------------------------------------\n",
    "# method name: calc_euclidean_vector_dist\n",
    "# --------------------------------------------------------\n",
    "def calc_euclidean_vector_dist(xSeriesTestVector,xSeriesTrainVector):\n",
    "    return np.sqrt(np.sum(np.power((xSeriesTestVector - xSeriesTrainVector),2)))"
   ]
  },
  {
   "cell_type": "markdown",
   "metadata": {},
   "source": [
    "<u>Part 3b - Euclidean Distance - <b>test</b></u> (1 point)<br/>\n",
    "* Test of the 'calc_euclidean_vector_dist' method implementation  \n",
    "\n",
    "<u>Important Notes</u>:<br/>\n",
    "* This test cell MUST NOT raise any exception\n",
    "* It must pass all tests \n",
    "* Do NOT change or delete this cell\n",
    "* additional tests might be performed"
   ]
  },
  {
   "cell_type": "code",
   "execution_count": 98,
   "metadata": {
    "deletable": false,
    "editable": false,
    "nbgrader": {
     "cell_type": "code",
     "checksum": "43146d3693f16f6da21e89a3f60bf3bb",
     "grade": true,
     "grade_id": "test-calc_euclidean_vector_dist",
     "locked": true,
     "points": 1,
     "schema_version": 3,
     "solution": false,
     "task": false
    }
   },
   "outputs": [
    {
     "name": "stdout",
     "output_type": "stream",
     "text": [
      "testing implementation of the 'calc_euclidean_vector_dist' method ...\n",
      "[3 1 0]\n",
      "[3 3 1]\n",
      "Euclidean Distance calculated successfuly: 2.236068\n",
      "----> The 'calc_euclidean_vector_dist' test passed successfully :-) \n",
      "\n",
      "note: Additional Tests might be executed on our side\n"
     ]
    }
   ],
   "source": [
    "# --------------------------------------------------------\n",
    "# TEST ONLY CELL - DO NO CHANGE - RUN ONLY\n",
    "# --------------------------------------------------------\n",
    "\n",
    "# --------------------------------------------------------\n",
    "# Test the:\n",
    "## 'calc_euclidean_vector_dist' method implementation \n",
    "# --------------------------------------------------------\n",
    "\n",
    "#--------------------------------------------------------\n",
    "print (\"testing implementation of the 'calc_euclidean_vector_dist' method ...\") \n",
    "fileName = 'data' + os.sep + 'titanic_dataset.csv'\n",
    "dataframe = pd.read_csv(fileName,index_col='PassengerId')\n",
    "xTitanicInstances = dataframe.drop('Survived',axis=1)\n",
    "yTitanicCategories = dataframe['Survived']\n",
    "inst0 = xTitanicInstances[['Pclass','SibSp','Parch']].iloc[0]\n",
    "inst7 = xTitanicInstances[['Pclass','SibSp','Parch']].iloc[7]\n",
    "print (inst0.values)\n",
    "print (inst7.values)\n",
    "dist = calc_euclidean_vector_dist(inst0,inst7)\n",
    "assert float(int(dist*100))/100 == 2.23, 'unexpected euclidean distance: %f' %(dist)\n",
    "print ('Euclidean Distance calculated successfuly: %f' %(dist))\n",
    "# --------------------------------------------------------\n",
    "# if no exception was thrown by this point, the student side tests were successful:\n",
    "print (\"----> The 'calc_euclidean_vector_dist' test passed successfully :-) \\n\")\n",
    "\n",
    "print ('note: Additional Tests might be executed on our side')  "
   ]
  },
  {
   "cell_type": "markdown",
   "metadata": {},
   "source": [
    "#### Part 3c - Chebyshev (chessborad) distance  ----> needs stundent implementation - 1 point\n",
    "<img src=\"./images/chess_board.jpg\" alt=\"Chebyshev (chessborad) distance\" width=\"200\" align='left'/>"
   ]
  },
  {
   "cell_type": "markdown",
   "metadata": {},
   "source": [
    "<u>Part 3c - Chebyshev Distance</u> ----> needs stundent implementation - 1 point<br/>\n",
    "<u>method name</u>: <b>calc_chebyshev_vector_dist</b><br/>\n",
    "\n",
    "<pre>\n",
    "The following is expected:\n",
    "- Change the following function to return the Chebyshev distastance between two vectors (series) from the test and train\n",
    "  ---- the xSeriesTestVector and xSeriesTrainVector are siries and consist of a single row (from train and test correspondigly) \n",
    "------------\n",
    "input parameter:\n",
    "- xSeriesTestVector  - feature vector (series) from the test set\n",
    "- xSeriesTrainVector - feature vector (series) from the train set\n",
    "------------\n",
    "return value:\n",
    "- dist - a scalar (number) containing the distance between the two vectors (floating point)\n",
    "---------------------\n",
    "---------------------\n",
    "--- General notes:\n",
    "Don't forget to remove the 'raise NotImplementedError()' line.\n",
    "In the line following the '# YOUR CODE HERE' line, add your code\n",
    "---------------------\n",
    "</pre>"
   ]
  },
  {
   "cell_type": "code",
   "execution_count": 99,
   "metadata": {
    "deletable": false,
    "nbgrader": {
     "cell_type": "code",
     "checksum": "4ba4764f9f96133d3831f6107669bcf3",
     "grade": false,
     "grade_id": "calc_chebyshev_vector_dist-answer",
     "locked": false,
     "schema_version": 3,
     "solution": true,
     "task": false
    }
   },
   "outputs": [],
   "source": [
    "# --------------------------------------------------------\n",
    "# IMPLEMENTATION CELL - RUN AFTER IMPLEMENTATION\n",
    "# --------------------------------------------------------\n",
    "\n",
    "# --------------------------------------------------------\n",
    "# Grading - Maximum points: 1\n",
    "# --------------------------------------------------------\n",
    "\n",
    "# --------------------------------------------------------\n",
    "# method name: calc_chebyshev_vector_dist\n",
    "# --------------------------------------------------------\n",
    "def calc_chebyshev_vector_dist(xSeriesTestVector,xSeriesTrainVector):\n",
    "    numberOfItems = xSeriesTestVector.size\n",
    "    distance = 0\n",
    "    for i in range (0, numberOfItems):\n",
    "        distance = np.maximum(abs(xSeriesTestVector[i] - xSeriesTrainVector[i]), distance)\n",
    "    return distance\n"
   ]
  },
  {
   "cell_type": "markdown",
   "metadata": {},
   "source": [
    "<u>Part 3c - Chebyshev Distance - <b>test</b></u> (1 point)<br/>\n",
    "* Test of the 'calc_chebyshev_vector_dist' method implementation  \n",
    "\n",
    "<u>Important Notes</u>:<br/>\n",
    "* This test cell MUST NOT raise any exception\n",
    "* It must pass all tests \n",
    "* Do NOT change or delete this cell\n",
    "* additional tests might be performed"
   ]
  },
  {
   "cell_type": "code",
   "execution_count": 100,
   "metadata": {
    "deletable": false,
    "editable": false,
    "nbgrader": {
     "cell_type": "code",
     "checksum": "3d003f7010c718b597ca056e048c7142",
     "grade": true,
     "grade_id": "test-calc_chebyshev_vector_dist",
     "locked": true,
     "points": 1,
     "schema_version": 3,
     "solution": false,
     "task": false
    }
   },
   "outputs": [
    {
     "name": "stdout",
     "output_type": "stream",
     "text": [
      "testing implementation of the 'calc_chebyshev_vector_dist' method ...\n",
      "[3 1 0]\n",
      "[3 3 1]\n",
      "Chebyshev Distance calculated successfuly: 2.000000\n",
      "----> The 'calc_chebyshev_vector_dist' test passed successfully :-) \n",
      "\n",
      "note: Additional Tests might be executed on our side\n"
     ]
    }
   ],
   "source": [
    "# --------------------------------------------------------\n",
    "# TEST ONLY CELL - DO NO CHANGE - RUN ONLY\n",
    "# --------------------------------------------------------\n",
    "\n",
    "# --------------------------------------------------------\n",
    "# Test the:\n",
    "## 'calc_chebyshev_vector_dist' method implementation \n",
    "# --------------------------------------------------------\n",
    "\n",
    "#--------------------------------------------------------\n",
    "print (\"testing implementation of the 'calc_chebyshev_vector_dist' method ...\") \n",
    "fileName = 'data' + os.sep + 'titanic_dataset.csv'\n",
    "dataframe = pd.read_csv(fileName,index_col='PassengerId')\n",
    "xTitanicInstances = dataframe.drop('Survived',axis=1)\n",
    "yTitanicCategories = dataframe['Survived']\n",
    "inst0 = xTitanicInstances[['Pclass','SibSp','Parch']].iloc[0]\n",
    "inst7 = xTitanicInstances[['Pclass','SibSp','Parch']].iloc[7]\n",
    "print (inst0.values)\n",
    "print (inst7.values)\n",
    "dist = calc_chebyshev_vector_dist(inst0,inst7)\n",
    "assert float(int(dist*100))/100 == 2, 'unexpected chebyshev distance: %f' %(dist)\n",
    "print ('Chebyshev Distance calculated successfuly: %f' %(dist))\n",
    "# --------------------------------------------------------\n",
    "# if no exception was thrown by this point, the student side tests were successful:\n",
    "print (\"----> The 'calc_chebyshev_vector_dist' test passed successfully :-) \\n\")\n",
    "\n",
    "print ('note: Additional Tests might be executed on our side')  "
   ]
  },
  {
   "cell_type": "code",
   "execution_count": 101,
   "metadata": {
    "deletable": false,
    "editable": false,
    "nbgrader": {
     "cell_type": "code",
     "checksum": "5daf0af71f52e849f681acc93ba2caeb",
     "grade": true,
     "grade_id": "test-hidden-distsance-metrics",
     "locked": true,
     "points": 1,
     "schema_version": 3,
     "solution": false,
     "task": false
    }
   },
   "outputs": [
    {
     "name": "stdout",
     "output_type": "stream",
     "text": [
      "testing implementation of the distance methods, these tests are not visble to the students ...\n"
     ]
    }
   ],
   "source": [
    "# --------------------------------------------------------\n",
    "# TEST ONLY CELL - DO NO CHANGE - RUN ONLY\n",
    "# --------------------------------------------------------\n",
    "\n",
    "# --------------------------------------------------------\n",
    "# Test the:\n",
    "## diffenrent distance methods implementation - extra test\n",
    "# --------------------------------------------------------\n",
    "\n",
    "#--------------------------------------------------------\n",
    "print (\"testing implementation of the distance methods, these tests are not visble to the students ...\") "
   ]
  },
  {
   "cell_type": "markdown",
   "metadata": {},
   "source": [
    "#### Part 4 - KNN - predict  ----> needs stundent implementation - 4 point\n",
    "<img src=\"./images/nearest_neighbors.jpg\" alt=\"k-Nearest-neighbors predict\" width=\"300\" align='left'/>"
   ]
  },
  {
   "cell_type": "markdown",
   "metadata": {},
   "source": [
    "### Part 4 - predict (KNN main flow) ----> needs stundent implementation - 4 point\n",
    "  * Part 4a - calculate distances to training examples (auxiliary function, used by 'predict_one_instance') ----> run only\n",
    "  * Part 4b - prdict one example ----> needs stundent implementation - total 4 points (for test)\n",
    "  * Part 4c - predict all test examples (auxiliary function, wraps 'predict_one_instance') ----> run only"
   ]
  },
  {
   "cell_type": "code",
   "execution_count": 102,
   "metadata": {
    "deletable": false,
    "editable": false,
    "nbgrader": {
     "cell_type": "code",
     "checksum": "5f64b9028a665fcf9fcd7093eb0093a1",
     "grade": false,
     "grade_id": "run-calc_distances",
     "locked": true,
     "schema_version": 3,
     "solution": false,
     "task": false
    }
   },
   "outputs": [],
   "source": [
    "# --------------------------------------------------------\n",
    "# NO IMPLEMENTAION - DO NO CHANGE - RUN ONLY\n",
    "# --------------------------------------------------------\n",
    "\n",
    "\"\"\"\n",
    "-----\n",
    "Part 4a - calculate distances to training examples\n",
    "--------------------------------------------------------\n",
    "Auxiliary function: calc_distances\n",
    "--------------------------------------------------------\n",
    "- the method wraps the different distance metrics methods\n",
    "   and calculates the distance between the (single) \n",
    "   test feature-vector (series) to all training feature-vectors (dataframe).\n",
    "   * It does so using the distanceMetric as a parameter \n",
    "   (see explaination ahead and usage in the test field).\n",
    "--------------------------------------------------------\n",
    "input parameters:\n",
    "- xSeriesTestVector - is a Series object, from the test set\n",
    "- xTrainInstances - is a dataframe including all train instances\n",
    "- distanceMetric - the name of the distance function, not as a string\n",
    "---- distanceMetric - options are: calc_manhattan_vector_dist ; calc_euclidean_vector_dist ; calc_chebyshev_vector_dist\n",
    "------------------------\n",
    "The retuned value is a numpy array, containing distances between the test instance\n",
    "                and all train instances (ordered by the train instance order) \n",
    "\"\"\"\n",
    "# --------------------------------------------------------\n",
    "\n",
    "#--------------------------------------------------------\n",
    "\n",
    "# --------------------------------------------------------\n",
    "# method name: calc_distances\n",
    "# --------------------------------------------------------\n",
    "def calc_distances(xSeriesTestVector, xTrainInstances, distanceMetric):\n",
    "    distances = np.zeros(xTrainInstances.shape[0])\n",
    "    for i in range(xTrainInstances.shape[0]):\n",
    "        distances[i] = distanceMetric(xSeriesTestVector, xTrainInstances.iloc[i])\n",
    "    return distances"
   ]
  },
  {
   "cell_type": "markdown",
   "metadata": {},
   "source": [
    "#### 4b KNN - predict one example  ----> needs stundent implementation - 4 point\n",
    "<img src=\"./images/3nn_majority.png\" alt=\"KNN - predict\" width=\"300\" align='left'/>"
   ]
  },
  {
   "cell_type": "markdown",
   "metadata": {},
   "source": [
    "<u>Part 4b KNN - predict one example </u> ----> needs stundent implementation - 3 point<br/>\n",
    "<u>method name</u>: <b>predict_one_instance</b><br/>\n",
    "\n",
    "<pre>\n",
    "The following is expected:\n",
    "- Change the following function to return the Chebyshev distastance between two vectors (series) from the test and train\n",
    "  ---- the xSeriesTestVector and xSeriesTrainVector are siries and consist of a single row (from train and test correspondigly) \n",
    "------------\n",
    "input parameter:\n",
    "- xSeriesTestVector - is a Series object, from the test set to be classified\n",
    "- xTrainInstances - a dataframe including all train instances to be compared to\n",
    "- yTrainCategories - a dataframe including all train categories \n",
    "- distanceMetric - the name of the distance function, not as a string\n",
    "   ---- distanceMetric - options are: calc_manhattan_vector_dist ; calc_euclidean_vector_dist ; calc_chebyshev_vector_dist\n",
    "- k - the number of Nearest Neighbors (we select the majority out of k votes)\n",
    "------------\n",
    "return value:\n",
    "- chosenCategory - a scalar (number) containing the majority category\n",
    "---------------------\n",
    "---------------------\n",
    "--- General notes:\n",
    "Don't forget to remove the 'raise NotImplementedError()' line.\n",
    "In the line following the '# YOUR CODE HERE' line, add your code\n",
    "---------------------\n",
    "</pre>"
   ]
  },
  {
   "cell_type": "code",
   "execution_count": 103,
   "metadata": {
    "deletable": false,
    "nbgrader": {
     "cell_type": "code",
     "checksum": "8902642580dafd101febddbb0b67da21",
     "grade": false,
     "grade_id": "predict-answer",
     "locked": false,
     "schema_version": 3,
     "solution": true,
     "task": false
    }
   },
   "outputs": [],
   "source": [
    "# --------------------------------------------------------\n",
    "# IMPLEMENTATION CELL - RUN AFTER IMPLEMENTATION\n",
    "# --------------------------------------------------------\n",
    "\n",
    "# --------------------------------------------------------\n",
    "# Grading - Maximum points: 3\n",
    "# --------------------------------------------------------\n",
    "\n",
    "# --------------------------------------------------------\n",
    "# method name: predict_one_instance\n",
    "# --------------------------------------------------------\n",
    "def predict_one_instance(xSeriesTestVector, xTrainInstances,yTrainCategories,distanceMetric,k):\n",
    "    distances = calc_distances(xSeriesTestVector, xTrainInstances,distanceMetric)\n",
    "    # calculate the k- nearest neighbors, based on the above distance array\n",
    "    # YOUR CODE HERE\n",
    "    # Zip two lists (distances and yTrainCategories) by distance and sort the results.\n",
    "    zipArray = zip(distances, yTrainCategories)\n",
    "    sortedCategoriesList = [i for j, i in sorted(zipArray)] \n",
    "    \n",
    "    categoriesCountArray = np.zeros(2)\n",
    "    for i in range (0, k):\n",
    "        categoriesCountArray[sortedCategoriesList[i]] = categoriesCountArray[sortedCategoriesList[i]] + 1\n",
    "   \n",
    "    # Check which category ('0' or '1') is more dominant  \n",
    "    if (categoriesCountArray[0] > categoriesCountArray[1]):\n",
    "        return 0\n",
    "    \n",
    "    return 1\n"
   ]
  },
  {
   "cell_type": "markdown",
   "metadata": {},
   "source": [
    "<u>Part 4b - Predict one example - <b>test</b></u> (4 points)<br/>\n",
    "* Test of the 'predict_one_instance' method implementation  \n",
    "\n",
    "<u>Important Notes</u>:<br/>\n",
    "* This test cell MUST NOT raise any exception\n",
    "* It must pass all tests \n",
    "* Do NOT change or delete this cell\n",
    "* additional tests might be performed"
   ]
  },
  {
   "cell_type": "code",
   "execution_count": 104,
   "metadata": {
    "deletable": false,
    "editable": false,
    "nbgrader": {
     "cell_type": "code",
     "checksum": "28b4af191e60b4159f01fb760387ceac",
     "grade": true,
     "grade_id": "test-predict_one_instance-manhattan",
     "locked": true,
     "points": 1,
     "schema_version": 3,
     "solution": false,
     "task": false
    }
   },
   "outputs": [
    {
     "name": "stdout",
     "output_type": "stream",
     "text": [
      "testing implementation of the 'predict_one_instance' method ...\n",
      "manhattanDist,k=3, inst=-7, chosen cat: 0\n",
      "(scaled) manhattanDist,k=3, inst=-7, chosen cat: 1\n",
      "---------------------------------------------------\n",
      "----> The 'predict_one_instance' test passed successfully :-) \n",
      "\n",
      "note: Additional Tests might be executed on our side\n"
     ]
    }
   ],
   "source": [
    "# --------------------------------------------------------\n",
    "# TEST ONLY CELL - DO NO CHANGE - RUN ONLY\n",
    "# --------------------------------------------------------\n",
    "\n",
    "# --------------------------------------------------------\n",
    "# Test the:\n",
    "## 'predict_one_instance' method implementation with a\n",
    "# Manhattan distance metric\n",
    "# --------------------------------------------------------\n",
    "\n",
    "#--------------------------------------------------------\n",
    "print (\"testing implementation of the 'predict_one_instance' method ...\") \n",
    "fileName = 'data' + os.sep + 'titanic_dataset.csv'\n",
    "dataframe = pd.read_csv(fileName,index_col='PassengerId')\n",
    "xTitanicInstances = dataframe.drop('Survived',axis=1)\n",
    "yTitanicCategories = dataframe['Survived']\n",
    "\n",
    "xTitanicInstances_5Features = xTitanicInstances[['Pclass','SibSp','Parch','Fare','Age']]\n",
    "xTitanicInstances_5Features_40 = xTitanicInstances_5Features.iloc[:40]\n",
    "yTitanicCategories_40 = yTitanicCategories.iloc[:40]\n",
    "xTitanicInstances_5Features_TestInst = xTitanicInstances_5Features.iloc[-7:-6]\n",
    "\n",
    "# measure distance without scaling:\n",
    "manhattanCategory_k3 = predict_one_instance(xTitanicInstances_5Features_TestInst.iloc[-1],xTitanicInstances_5Features_40,yTitanicCategories_40,calc_manhattan_vector_dist,3)\n",
    "print ('manhattanDist,k=3, inst=-%d, chosen cat: %d' %(7,manhattanCategory_k3))\n",
    "assert manhattanCategory_k3 == 0,\"wrong value for knn, with k=3, dist='manhattan'\"\n",
    "\n",
    "\n",
    "# Feature Scaling\n",
    "## We will be using standardscaler to transform\n",
    "from sklearn.preprocessing import StandardScaler\n",
    "sc = StandardScaler()\n",
    "## transforming \"train_x\"\n",
    "xTrainScaled = pd.DataFrame(sc.fit_transform(xTitanicInstances_5Features_40),index=xTitanicInstances_5Features_40.index,columns=xTitanicInstances_5Features_40.columns)\n",
    "## transforming \"test_x\"\n",
    "xTestScaled = pd.Series(sc.transform(xTitanicInstances_5Features_TestInst)[0],index=xTitanicInstances_5Features_40.columns)\n",
    "# measure distance with scaling:\n",
    "manhattanCategory_scaled_k3 = predict_one_instance(xTestScaled,xTrainScaled,yTitanicCategories_40,calc_manhattan_vector_dist,3)\n",
    "print ('(scaled) manhattanDist,k=3, inst=-%d, chosen cat: %d' %(7,manhattanCategory_scaled_k3))\n",
    "assert manhattanCategory_scaled_k3 == 1,\"wrong value for (scaled) knn, with k=3, dist='manhattan'\"\n",
    "print ('---------------------------------------------------')\n",
    "\n",
    "# --------------------------------------------------------\n",
    "# if no exception was thrown by this point, this test was successful:\n",
    "print (\"----> The 'predict_one_instance' test passed successfully :-) \\n\")\n",
    "\n",
    "print ('note: Additional Tests might be executed on our side')  \n"
   ]
  },
  {
   "cell_type": "code",
   "execution_count": 105,
   "metadata": {
    "deletable": false,
    "editable": false,
    "nbgrader": {
     "cell_type": "code",
     "checksum": "f288b0398471adb41aef0fe0fae84d2a",
     "grade": true,
     "grade_id": "test-predict_one_instance-euclidian",
     "locked": true,
     "points": 1,
     "schema_version": 3,
     "solution": false,
     "task": false
    }
   },
   "outputs": [
    {
     "name": "stdout",
     "output_type": "stream",
     "text": [
      "testing implementation of the 'predict_one_instance' method ...\n",
      "euclideanDist,k=3, inst=-7, chosen cat: 1\n",
      "(scaled) euclideanDist,k=3, inst=-7, chosen cat: 1\n",
      "---------------------------------------------------\n",
      "----> The 'predict_one_instance' test passed successfully :-) \n",
      "\n",
      "note: Additional Tests might be executed on our side\n"
     ]
    }
   ],
   "source": [
    "# TEST ONLY CELL - DO NO CHANGE - RUN ONLY\n",
    "# --------------------------------------------------------\n",
    "\n",
    "# --------------------------------------------------------\n",
    "# Test the:\n",
    "## 'predict_one_instance' method implementation with an\n",
    "# euclidian distance metric\n",
    "# --------------------------------------------------------\n",
    "\n",
    "#--------------------------------------------------------\n",
    "print (\"testing implementation of the 'predict_one_instance' method ...\") \n",
    "fileName = 'data' + os.sep + 'titanic_dataset.csv'\n",
    "dataframe = pd.read_csv(fileName,index_col='PassengerId')\n",
    "xTitanicInstances = dataframe.drop('Survived',axis=1)\n",
    "yTitanicCategories = dataframe['Survived']\n",
    "xTitanicInstances_5Features = xTitanicInstances[['Pclass','SibSp','Parch','Fare','Age']]\n",
    "xTitanicInstances_5Features_40 = xTitanicInstances_5Features.iloc[:40]\n",
    "yTitanicCategories_40 = yTitanicCategories.iloc[:40]\n",
    "xTitanicInstances_5Features_TestInst = xTitanicInstances_5Features.iloc[-7:-6]\n",
    "\n",
    "# measure distance without scaling:\n",
    "euclideanCategory_k3 = predict_one_instance(xTitanicInstances_5Features_TestInst.iloc[-1],xTitanicInstances_5Features_40,yTitanicCategories_40,calc_euclidean_vector_dist,3)\n",
    "print ('euclideanDist,k=3, inst=-%d, chosen cat: %d' %(7,euclideanCategory_k3))\n",
    "assert euclideanCategory_k3 == 1,\"wrong value for knn, with k=3, dist='euclidean'\"\n",
    "\n",
    "# Feature Scaling\n",
    "## We will be using standardscaler to transform\n",
    "from sklearn.preprocessing import StandardScaler\n",
    "sc = StandardScaler()\n",
    "## transforming \"train_x\"\n",
    "xTrainScaled = pd.DataFrame(sc.fit_transform(xTitanicInstances_5Features_40),index=xTitanicInstances_5Features_40.index,columns=xTitanicInstances_5Features_40.columns)\n",
    "## transforming \"test_x\"\n",
    "xTestScaled = pd.Series(sc.transform(xTitanicInstances_5Features_TestInst)[0],index=xTitanicInstances_5Features_40.columns)\n",
    "# measure distance with scaling:\n",
    "euclideanCategory_scaled_k3 = predict_one_instance(xTestScaled,xTrainScaled,yTitanicCategories_40,calc_euclidean_vector_dist,3)\n",
    "print ('(scaled) euclideanDist,k=3, inst=-%d, chosen cat: %d' %(7,euclideanCategory_scaled_k3))\n",
    "assert euclideanCategory_scaled_k3 == 1,\"wrong value for (scaled) knn, with k=3, dist='euclidean'\"\n",
    "print ('---------------------------------------------------')\n",
    "\n",
    "# --------------------------------------------------------\n",
    "# if no exception was thrown by this point, this test was successful:\n",
    "print (\"----> The 'predict_one_instance' test passed successfully :-) \\n\")\n",
    "\n",
    "print ('note: Additional Tests might be executed on our side')  \n"
   ]
  },
  {
   "cell_type": "code",
   "execution_count": 106,
   "metadata": {
    "deletable": false,
    "editable": false,
    "nbgrader": {
     "cell_type": "code",
     "checksum": "89dbae1329dee96825ab29a8f776a149",
     "grade": true,
     "grade_id": "test-predict_one_instance-chebyshev",
     "locked": true,
     "points": 1,
     "schema_version": 3,
     "solution": false,
     "task": false
    }
   },
   "outputs": [
    {
     "name": "stdout",
     "output_type": "stream",
     "text": [
      "testing implementation of the 'predict_one_instance' method ...\n",
      "chebyshevDist,k=5, inst=-7, chosen cat: 0\n",
      "(scaled) chebyshevDist,k=3, inst=-7, chosen cat: 0\n",
      "---------------------------------------------------\n",
      "----> The 'predict_one_instance' test passed successfully :-) \n",
      "\n",
      "note: Additional Tests might be executed on our side\n"
     ]
    }
   ],
   "source": [
    "# TEST ONLY CELL - DO NO CHANGE - RUN ONLY\n",
    "# --------------------------------------------------------\n",
    "\n",
    "# --------------------------------------------------------\n",
    "# Test the:\n",
    "## 'predict_one_instance' method implementation with an\n",
    "# chebyshev distance metric\n",
    "# --------------------------------------------------------\n",
    "\n",
    "#--------------------------------------------------------\n",
    "print (\"testing implementation of the 'predict_one_instance' method ...\") \n",
    "fileName = 'data' + os.sep + 'titanic_dataset.csv'\n",
    "dataframe = pd.read_csv(fileName,index_col='PassengerId')\n",
    "xTitanicInstances = dataframe.drop('Survived',axis=1)\n",
    "yTitanicCategories = dataframe['Survived']\n",
    "xTitanicInstances_5Features = xTitanicInstances[['Pclass','SibSp','Parch','Fare','Age']]\n",
    "xTitanicInstances_5Features_40 = xTitanicInstances_5Features.iloc[:40]\n",
    "yTitanicCategories_40 = yTitanicCategories.iloc[:40]\n",
    "xTitanicInstances_5Features_TestInst = xTitanicInstances_5Features.iloc[-7:-6]\n",
    "\n",
    "# measure distance without scaling:\n",
    "chebyshevCategory_k5 = predict_one_instance(xTitanicInstances_5Features_TestInst.iloc[-1],xTitanicInstances_5Features_40,yTitanicCategories_40,calc_chebyshev_vector_dist,5)\n",
    "print ('chebyshevDist,k=5, inst=-%d, chosen cat: %d' %(7,chebyshevCategory_k5))\n",
    "assert chebyshevCategory_k5 == 0,\"wrong value for knn, with k=5, dist='chebyshev'\"\n",
    "\n",
    "# Feature Scaling\n",
    "## We will be using standardscaler to transform\n",
    "from sklearn.preprocessing import StandardScaler\n",
    "sc = StandardScaler()\n",
    "## transforming \"train_x\"\n",
    "xTrainScaled = pd.DataFrame(sc.fit_transform(xTitanicInstances_5Features_40),index=xTitanicInstances_5Features_40.index,columns=xTitanicInstances_5Features_40.columns)\n",
    "## transforming \"test_x\"\n",
    "xTestScaled = pd.Series(sc.transform(xTitanicInstances_5Features_TestInst)[0],index=xTitanicInstances_5Features_40.columns)\n",
    "# measure distance with scaling:\n",
    "chebyshevCategory_scaled_k5 = predict_one_instance(xTestScaled,xTrainScaled,yTitanicCategories_40,calc_euclidean_vector_dist,5)\n",
    "print ('(scaled) chebyshevDist,k=3, inst=-%d, chosen cat: %d' %(7,chebyshevCategory_scaled_k5))\n",
    "assert chebyshevCategory_scaled_k5 == 0,\"wrong value for (scaled) knn, with k=5, dist='chebyshev'\"\n",
    "print ('---------------------------------------------------')\n",
    "\n",
    "# --------------------------------------------------------\n",
    "# if no exception was thrown by this point, this test was successful:\n",
    "print (\"----> The 'predict_one_instance' test passed successfully :-) \\n\")\n",
    "\n",
    "print ('note: Additional Tests might be executed on our side')  \n"
   ]
  },
  {
   "cell_type": "code",
   "execution_count": 107,
   "metadata": {
    "deletable": false,
    "editable": false,
    "nbgrader": {
     "cell_type": "code",
     "checksum": "996130ab74c884760cdf57bd017e3c7c",
     "grade": true,
     "grade_id": "test-predict-hidden",
     "locked": true,
     "points": 1,
     "schema_version": 3,
     "solution": false,
     "task": false
    }
   },
   "outputs": [
    {
     "name": "stdout",
     "output_type": "stream",
     "text": [
      "testing implementation of the 'predict' method, these tests are not visble to the students ...\n"
     ]
    }
   ],
   "source": [
    "# --------------------------------------------------------\n",
    "# TEST ONLY CELL - DO NO CHANGE - RUN ONLY\n",
    "# --------------------------------------------------------\n",
    "\n",
    "# --------------------------------------------------------\n",
    "# Test the:\n",
    "## addtional tests - predict method implementation - extra test\n",
    "# --------------------------------------------------------\n",
    "\n",
    "#--------------------------------------------------------\n",
    "print (\"testing implementation of the 'predict' method, these tests are not visble to the students ...\") "
   ]
  },
  {
   "cell_type": "code",
   "execution_count": 108,
   "metadata": {
    "deletable": false,
    "editable": false,
    "nbgrader": {
     "cell_type": "code",
     "checksum": "6ee9d213250b635b4ab58a6c0d2f1a74",
     "grade": false,
     "grade_id": "run-predict-wrapper",
     "locked": true,
     "schema_version": 3,
     "solution": false,
     "task": false
    }
   },
   "outputs": [],
   "source": [
    "# --------------------------------------------------------\n",
    "# NO IMPLEMENTAION - DO NO CHANGE - RUN ONLY\n",
    "# --------------------------------------------------------\n",
    "\n",
    "\n",
    "\"\"\"\n",
    "Part 4c - predict all test-set examples using knn.\n",
    "--------------------------------------------------------\n",
    "Auxiliary function: predict\n",
    "--------------------------------------------------------\n",
    "- the method wraps the 'predict_one_instance' method you\n",
    "#   implemented, to run the knn prediction on all test examples.\n",
    "--------------------------------------------------------\n",
    "input parameters:\n",
    "- xTestInstances - is adataframe including all test instances\n",
    "- xTrainInstances - is a dataframe including all train instances\n",
    "- yTrainCategories - is a series including all train categories\n",
    "- distanceMetric - the name of the distance function, not as a string\n",
    "---- distanceMetric - options are: calc_manhattan_vector_dist ; calc_euclidean_vector_dist ; calc_chebyshev_vector_dist\n",
    "k - number of nearest neighbors\n",
    "------------------------\n",
    "The retuned value is a series, containing knn predictions for the corresponding test instances\n",
    "--------------------------------------------------------\n",
    "\"\"\"\n",
    "def predict(xTestInstances, xTrainInstances,yTrainCategories,distanceMetric,k):\n",
    "    yPredicted = pd.Series(index=xTestInstances.index,dtype='float64')\n",
    "    for i in range(xTestInstances.shape[0]):\n",
    "        xTestInstance = xTestInstances.iloc[i]\n",
    "        yPredictedCategory_i = predict_one_instance(xTestInstance,xTrainInstances,yTrainCategories,distanceMetric,k)\n",
    "        yPredicted.iloc[i]=yPredictedCategory_i\n",
    "    return yPredicted"
   ]
  },
  {
   "cell_type": "markdown",
   "metadata": {},
   "source": [
    "### Part 5 - evaluation (accuracy)\n",
    "<img src=\"./images/accuracy.jpg\" alt=\"Accuracy\" width=\"300\" align='left'/>"
   ]
  },
  {
   "cell_type": "markdown",
   "metadata": {},
   "source": [
    "<u>Part 5 - Evaluation </u> ----> needs stundent implementation - 2 point<br/>\n",
    "<u>method name</u>: <b>calc_accuracy</b><br/>\n",
    "\n",
    "<pre>\n",
    "The following is expected:\n",
    "- the method needs to return the accuracy (correctly predicted ratio)\n",
    "------------\n",
    "input parameter:\n",
    "- y_predicted -  a series of containing all predicted class values per test instance\n",
    "- y_test - a series of containing all actual class values per test instance\n",
    "------------\n",
    "return value:\n",
    "------------\n",
    "- accuracyVal - the accuracy value\n",
    "---------------------\n",
    "---------------------\n",
    "--- General notes:\n",
    "Don't forget to remove the 'raise NotImplementedError()' line.\n",
    "In the line following the '# YOUR CODE HERE' line, add your code\n",
    "---------------------\n",
    "</pre>"
   ]
  },
  {
   "cell_type": "code",
   "execution_count": 109,
   "metadata": {
    "deletable": false,
    "nbgrader": {
     "cell_type": "code",
     "checksum": "3fbf215fde061b3a92c4dcfd49926033",
     "grade": false,
     "grade_id": "calc_accuracy-answer",
     "locked": false,
     "schema_version": 3,
     "solution": true,
     "task": false
    }
   },
   "outputs": [],
   "source": [
    "# --------------------------------------------------------\n",
    "# IMPLEMENTATION CELL - RUN AFTER IMPLEMENTATION\n",
    "# --------------------------------------------------------\n",
    "\n",
    "# --------------------------------------------------------\n",
    "# Grading - Maximum points: 1\n",
    "# --------------------------------------------------------\n",
    "\n",
    "# --------------------------------------------------------\n",
    "# method name: calc_accuracy\n",
    "# --------------------------------------------------------\n",
    "def calc_accuracy(y_predicted,y_test):\n",
    "    # YOUR CODE HERE\n",
    "    accuracyRate = 0\n",
    "    \n",
    "    for i in range (0, y_predicted.size):\n",
    "        if (y_predicted.iloc[i] == y_test.iloc[i]):\n",
    "            accuracyRate = accuracyRate + 1\n",
    "            \n",
    "    accuracyRate = accuracyRate / y_predicted.size\n",
    "    return accuracyRate"
   ]
  },
  {
   "cell_type": "markdown",
   "metadata": {},
   "source": [
    "<u>Part 5 - Accuracy - <b>test</b></u> (1 point)<br/>\n",
    "* Test of the 'calc_accuracy' method implementation  \n",
    "\n",
    "<u>Important Notes</u>:<br/>\n",
    "* This test cell MUST NOT raise any exception\n",
    "* It must pass all tests \n",
    "* Do NOT change or delete this cell\n",
    "* additional tests might be performed"
   ]
  },
  {
   "cell_type": "code",
   "execution_count": 110,
   "metadata": {
    "deletable": false,
    "editable": false,
    "nbgrader": {
     "cell_type": "code",
     "checksum": "98b6948f7c76cde4fd8fff424b9c22c4",
     "grade": true,
     "grade_id": "test-calc_accuracy",
     "locked": true,
     "points": 1,
     "schema_version": 3,
     "solution": false,
     "task": false
    }
   },
   "outputs": [
    {
     "name": "stdout",
     "output_type": "stream",
     "text": [
      "testing implementation of the 'calc_accuracy' method ...\n",
      "(Scaled) manhattanDist,k=3, acc: 0.650000\n",
      "(Scaled) euclideanDist,k=3, acc: 0.600000\n",
      "----> The 'calc_accuracy' test passed successfully :-) \n",
      "\n",
      "note: Additional Tests might be executed on our side\n"
     ]
    }
   ],
   "source": [
    "# --------------------------------------------------------\n",
    "# TEST ONLY CELL - DO NO CHANGE - RUN ONLY\n",
    "# --------------------------------------------------------\n",
    "\n",
    "# --------------------------------------------------------\n",
    "# Test the:\n",
    "## 'calc_accuracy' method implementation \n",
    "# --------------------------------------------------------\n",
    "\n",
    "#--------------------------------------------------------\n",
    "print (\"testing implementation of the 'calc_accuracy' method ...\") \n",
    "\n",
    "fileName = 'data' + os.sep + 'titanic_dataset.csv'\n",
    "dataframe = pd.read_csv(fileName,index_col='PassengerId')\n",
    "xTitanicInstances = dataframe.drop('Survived',axis=1)\n",
    "yTitanicCategories = dataframe['Survived']\n",
    "xTitanicInstances_5Features = xTitanicInstances[['Pclass','SibSp','Parch','Fare','Age']]\n",
    "xTitanicInstances_5Features_100 = xTitanicInstances_5Features.iloc[:100]\n",
    "yTitanicCategories_100 = yTitanicCategories.iloc[:100]\n",
    "xTitanicInstances_5Features_Test_10 = xTitanicInstances_5Features.iloc[-20:]\n",
    "yTitanicCategories_Test_10 = yTitanicCategories.iloc[-20:]\n",
    "\n",
    "## scale:\n",
    "from sklearn.preprocessing import StandardScaler\n",
    "sc = StandardScaler()\n",
    "xTrainScaled = pd.DataFrame(sc.fit_transform(xTitanicInstances_5Features_100),index=xTitanicInstances_5Features_100.index)\n",
    "xTestScaled = pd.DataFrame(sc.transform(xTitanicInstances_5Features_Test_10),index=xTitanicInstances_5Features_Test_10.index)\n",
    "\n",
    "# yPredicted=predict(xTestInstances, xTrainInstances,yTrainCategories,distanceMetric,k)\n",
    "yPredicted_scaled_manhattan_3 = predict(xTestScaled,xTrainScaled,yTitanicCategories_100,calc_manhattan_vector_dist,3)\n",
    "yPredicted_scaled_euclidean_3 = predict(xTestScaled,xTrainScaled,yTitanicCategories_100,calc_euclidean_vector_dist,3)\n",
    "acc_scaled_manhattan_3 = calc_accuracy(yPredicted_scaled_manhattan_3,yTitanicCategories_Test_10)\n",
    "acc_scaled_euclidean_3 = calc_accuracy(yPredicted_scaled_euclidean_3,yTitanicCategories_Test_10)\n",
    "print ('(Scaled) manhattanDist,k=3, acc: %f' %(acc_scaled_manhattan_3))\n",
    "print ('(Scaled) euclideanDist,k=3, acc: %f' %(acc_scaled_euclidean_3))\n",
    "assert acc_scaled_manhattan_3 == 0.65,\"wrong value for accuracy of (Scaled) knn, with k=3, dist='manhattan'\"\n",
    "assert acc_scaled_euclidean_3 == 0.60,\"wrong value for accuracy of (Scaled) knn, with k=3, dist='euclidean'\"\n",
    "# --------------------------------------------------------\n",
    "# if no exception was thrown by this point, this test was successful:\n",
    "print (\"----> The 'calc_accuracy' test passed successfully :-) \\n\")\n",
    "\n",
    "print ('note: Additional Tests might be executed on our side')  \n"
   ]
  },
  {
   "cell_type": "code",
   "execution_count": 111,
   "metadata": {
    "deletable": false,
    "editable": false,
    "nbgrader": {
     "cell_type": "code",
     "checksum": "ef63efc9b586a9c41718bae3c1dd122b",
     "grade": true,
     "grade_id": "cell-909ea12646d6ce9b",
     "locked": true,
     "points": 1,
     "schema_version": 3,
     "solution": false,
     "task": false
    }
   },
   "outputs": [
    {
     "name": "stdout",
     "output_type": "stream",
     "text": [
      "testing implementation of the 'calc_accuracy' method, these tests are not visble to the students ...\n"
     ]
    }
   ],
   "source": [
    "# --------------------------------------------------------\n",
    "# TEST ONLY CELL - DO NO CHANGE - RUN ONLY\n",
    "# --------------------------------------------------------\n",
    "\n",
    "# --------------------------------------------------------\n",
    "# Test the:\n",
    "## addtional tests - predict method implementation - extra test\n",
    "# --------------------------------------------------------\n",
    "\n",
    "#--------------------------------------------------------\n",
    "print (\"testing implementation of the 'calc_accuracy' method, these tests are not visble to the students ...\") "
   ]
  }
 ],
 "metadata": {
  "kernelspec": {
   "display_name": "Python 3",
   "language": "python",
   "name": "python3"
  },
  "language_info": {
   "codemirror_mode": {
    "name": "ipython",
    "version": 3
   },
   "file_extension": ".py",
   "mimetype": "text/x-python",
   "name": "python",
   "nbconvert_exporter": "python",
   "pygments_lexer": "ipython3",
   "version": "3.7.6"
  }
 },
 "nbformat": 4,
 "nbformat_minor": 2
}
