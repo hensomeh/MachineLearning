{
 "cells": [
  {
   "cell_type": "markdown",
   "metadata": {},
   "source": [
    "# Assignment 1 - Pandas dataframes Scaling\n",
    "\n",
    "Motivation - Iris flowers:\n",
    "<table align='left'>\n",
    "    <tr><th>Iris Setosa</th><th>Iris Virginica</th><th>Iris Versicolor</th></tr>\n",
    "    <tr>\n",
    "        <td><img src=\"./images/Iris-versicolor.jpg\" alt=\"Iris Versicolor\" style=\"width: 200px;\"/></td>\n",
    "        <td><img src=\"./images/iris_setosa.jpg\" alt=\"Iris Setosa\" style=\"width: 200px;\"/></td>\n",
    "        <td><img src=\"./images/iris_virginica.jpg\" alt=\"Iris Virginica\" style=\"width: 200px;\"/></td>\n",
    "    </tr>\n",
    "</table>    "
   ]
  },
  {
   "cell_type": "markdown",
   "metadata": {},
   "source": [
    "<h3><u>Feature Set</u></h3>\n",
    "<table align='left' width=\"200\">\n",
    "    <tr><td>\n",
    "        <img src=\"./images/iris_petal_sepal.png\" alt=\"Iris\" width=\"200\" align='left'/>\n",
    "    </td></tr>\n",
    "    <tr><td align='left'>\n",
    "        <div style=\"text-align:left;font-size:125%\"><u>Dataset includes 4 features</u>:</div><br/>\n",
    "        <ul style=\"list-style-type:circle;text-align:left;font-size:115%\">\n",
    "            <li>sepal-length</li>\n",
    "            <li>sepal-width</li>\n",
    "            <li>petal-length</li>\n",
    "            <li>petal-width</li>\n",
    "        </ul>\n",
    "    </td></tr>\n",
    "</table>    "
   ]
  },
  {
   "cell_type": "markdown",
   "metadata": {},
   "source": [
    "## General instructions:\n",
    "Please Read the following instructions, and make sure you follow all steps, before submiting your assignment via moodle:\n",
    "- Put your code one line after the '# YOUR CODE HERE' remark\n",
    "- You must remove the 'raise NotImplementedError()' exception raising line (which appears a line after the above remark).\n",
    "    * if you do not remove this line, it will be a sign that you didn't implement that code, and we won't be able to check your work\n",
    "- Do NOT remove any other line in this notebook    \n",
    "- you also need to implement the two functions 'myName', 'myId'\n",
    "    * myName - you need to return your full name as a string\n",
    "    * myId - you need to return your ID number as a an integer    \n",
    "- When you want to check your work, select the 'Cell' --> 'Run All' menu\n",
    "    * before performing your filnal test, we suggest to clear previous output (by selecting 'Cell' --> 'All output' --> 'Clear' menu) and then reperform the final execution ('Cell' --> 'Run All') of the code.\n",
    "    * after performing 'Run All', make sure there are no exceptions thrown and that the output is as you expected.\n",
    "- Don't forget to save your work, by clicking the 'save' icon (in the upper left part of the screen), or by selecting the 'File' --> 'Save and checkpoint' menu item. \n",
    "- Do NOT change the file name of this notebook\n",
    "- The work is done individualy, for each student\n",
    "- Each student needs to submit his/her assignment through moodle.\n",
    "- Submit the python notebook only (not any additional possible files) \n",
    "<br/><br/>\n",
    "Good Luck :-)<br/>\n",
    "The courses staff"
   ]
  },
  {
   "cell_type": "markdown",
   "metadata": {},
   "source": [
    "## Assignmet 1 - Scaling (total of 10 points)\n",
    "<u>The assignment consists of 5 parts</u>:<br/>\n",
    "* preceding step - import packages\n",
    "* part 1 - Student information methods ----> needs stundent implementation\n",
    "* Part 2 - load the Iris dataset ----> run only\n",
    "* Part 3 - column statistics  ----> needs stundent implementation - 4 point\n",
    "  * Part 3a - mean ----> needs stundent implementation - total 2 points\n",
    "  * Part 3b - std ---->  needs stundent implementation - total 2 points\n",
    "* part 4 - scaling  ----> needs stundent implementation - 6 point\n",
    "  * Part 4a - t-distribution standardization ----> needs stundent implementation - total 3 points\n",
    "  * Part 4b- minmax normalization ----> needs stundent implementation - total 3 points"
   ]
  },
  {
   "cell_type": "markdown",
   "metadata": {},
   "source": [
    "## Preceding Step - import packages\n",
    "This step is necessary in order to use external packages. <br/><br/>\n",
    "<u>Exteranl packages include</u>: \n",
    "* pandas - which we use mainly for dataframes and series\n",
    "* numpy - which we use for advance operations, such as unique values of arrays"
   ]
  },
  {
   "cell_type": "code",
   "execution_count": 14,
   "metadata": {
    "deletable": false,
    "editable": false,
    "nbgrader": {
     "cell_type": "code",
     "checksum": "7e2a4c90954b4e0ffaad6bf0a5c5e56b",
     "grade": false,
     "grade_id": "import-packages",
     "locked": true,
     "schema_version": 3,
     "solution": false,
     "task": false
    }
   },
   "outputs": [],
   "source": [
    "# --------------------------------------------------------\n",
    "# NO IMPLEMENTAION - DO NO CHANGE - RUN ONLY\n",
    "# --------------------------------------------------------\n",
    "import os\n",
    "import pandas as pd"
   ]
  },
  {
   "cell_type": "markdown",
   "metadata": {},
   "source": [
    "### Part 1 - Student information methods:\n",
    "The following 2 cells consist of 2 methods which aim to validate your details.<br/>\n",
    "Please <b>make sure to implement <u>both</u> of them</b>"
   ]
  },
  {
   "cell_type": "markdown",
   "metadata": {},
   "source": [
    "# <u>Part 1 Student information methods</u>:<br/>\n",
    "<u>method name</u>: <b>myName</b><br/>\n",
    "<pre>\n",
    "The following is expected:\n",
    "--- the method needs to return your full name (as a string)\n",
    "    For example: assume your name is John Smith, you should write:\n",
    "    return 'John Smith'\n",
    "------------\n",
    "return value:\n",
    "- your full name (as a string)\n",
    "---------------------\n",
    "--- General notes:\n",
    "Don't forget to remove the 'raise NotImplementedError()' line.\n",
    "In the line following the '# YOUR CODE HERE' line, add your code\n",
    "---------------------\n",
    "</pre>"
   ]
  },
  {
   "cell_type": "code",
   "execution_count": 15,
   "metadata": {
    "deletable": false,
    "nbgrader": {
     "cell_type": "code",
     "checksum": "c595f11fc929d4b77957a0c4ea39ebf3",
     "grade": false,
     "grade_id": "myName-answer",
     "locked": false,
     "schema_version": 3,
     "solution": true,
     "task": false
    }
   },
   "outputs": [],
   "source": [
    "# --------------------------------------------------------\n",
    "# IMPLEMENTATION CELL\n",
    "# --------------------------------------------------------\n",
    "\n",
    "# --------------------------------------------------------\n",
    "# YOU MUST RUN THIS NOTEBOOK CELL\n",
    "# --------------------------------------------------------\n",
    "\n",
    "# --------------------------------------------------------\n",
    "# method name: myName\n",
    "# --------------------------------------------------------\n",
    "def myName():\n",
    "    # ADD the return statement in the LINE AFTER: '# YOUR CODE HERE'\n",
    "    # YOUR CODE HERE\n",
    "    return 'Hen Haim Someh'"
   ]
  },
  {
   "cell_type": "markdown",
   "metadata": {},
   "source": [
    "<u>Part 1 Student information methods</u>:<br/>\n",
    "<u>method name</u>: <b>myId</b><br/>\n",
    "<pre>\n",
    "The following is expected:\n",
    "--- the method needs to return your ID number (as an integer number)\n",
    "    For example: assume your ID number is 1234, you should write:\n",
    "    return 1234\n",
    "------------\n",
    "return value:\n",
    "- your ID number (as an integer number)\n",
    "---------------------\n",
    "--- General notes:\n",
    "Don't forget to remove the 'raise NotImplementedError()' line.\n",
    "In the line following the 'YOUR CODE HERE' line, add your code\n",
    "---------------------\n",
    "</pre>"
   ]
  },
  {
   "cell_type": "code",
   "execution_count": 16,
   "metadata": {
    "deletable": false,
    "nbgrader": {
     "cell_type": "code",
     "checksum": "cd86e2e5bd34dbc752e47c5a08f57496",
     "grade": false,
     "grade_id": "myId-answer",
     "locked": false,
     "schema_version": 3,
     "solution": true,
     "task": false
    }
   },
   "outputs": [],
   "source": [
    "# --------------------------------------------------------\n",
    "# IMPLEMENTATION CELL\n",
    "# --------------------------------------------------------\n",
    "\n",
    "# --------------------------------------------------------\n",
    "# YOU MUST RUN THIS NOTEBOOK CELL\n",
    "# --------------------------------------------------------\n",
    "\n",
    "# --------------------------------------------------------\n",
    "# method name: myId\n",
    "# --------------------------------------------------------\n",
    "def myId():\n",
    "    # YOUR CODE HERE\n",
    "    return 313468654"
   ]
  },
  {
   "cell_type": "markdown",
   "metadata": {},
   "source": [
    "<u>Part 1 Student information method - test</u><br/>\n",
    "* Test of 'myName' and 'myId' methods implementation  \n",
    "* It tests the correctness their implementation\n",
    "\n",
    "<u>Important Notes</u>:<br/>\n",
    "* This test cell MUST NOT raise any exception\n",
    "* It must pass all tests \n",
    "* Do NOT change or delete this cell"
   ]
  },
  {
   "cell_type": "code",
   "execution_count": 17,
   "metadata": {
    "deletable": false,
    "editable": false,
    "nbgrader": {
     "cell_type": "code",
     "checksum": "f9116a4635699caea101315f303d5461",
     "grade": false,
     "grade_id": "test-myName-myId",
     "locked": true,
     "schema_version": 3,
     "solution": false,
     "task": false
    }
   },
   "outputs": [
    {
     "name": "stdout",
     "output_type": "stream",
     "text": [
      "'myName' method validation is successfull!\n",
      "your name is: Hen Haim Someh\n",
      "--------------------------------------\n",
      "'myId' method validation is successfull!\n",
      "your id is: 313468654\n"
     ]
    }
   ],
   "source": [
    "# --------------------------------------------------------\n",
    "# TEST ONLY CELL - DO NO CHANGE - RUN ONLY CELL\n",
    "# --------------------------------------------------------\n",
    "\n",
    "# --------------------------------------------------------\n",
    "# Test:\n",
    "## the 'myName' and the 'myId' methods implementation \n",
    "# --------------------------------------------------------\n",
    "aName = myName()\n",
    "aId = myId()\n",
    "assert aName is not None, 'no return student name'\n",
    "assert type(aName) is str, \"name is not a string: %r\" % aName\n",
    "print (\"'myName' method validation is successfull!\")\n",
    "print (\"your name is: %s\" %(aName))\n",
    "print (\"--------------------------------------\")\n",
    "assert aId is not None, 'no return student id'\n",
    "assert type(aId) is int, \"id is not an integer: %r\" % aId\n",
    "print (\"'myId' method validation is successfull!\")\n",
    "print (\"your id is: %d\" %(aId))\n",
    "## END OF 'myName' and 'myId' implementation validation\n",
    "# --------------------------------------------------------"
   ]
  },
  {
   "cell_type": "markdown",
   "metadata": {},
   "source": [
    "### Part 2 - Loading dataset - run only\n",
    "<img src=\"./images/load_dataframe.jpg\" alt=\"load dataframe\" width=\"100\" align='left'/>\n",
    "\n"
   ]
  },
  {
   "cell_type": "code",
   "execution_count": 18,
   "metadata": {
    "deletable": false,
    "editable": false,
    "nbgrader": {
     "cell_type": "code",
     "checksum": "1a6d68fa546fb33cb902082d23a1599f",
     "grade": false,
     "grade_id": "load-iris-dataframe-from-csv",
     "locked": true,
     "schema_version": 3,
     "solution": false,
     "task": false
    },
    "scrolled": true
   },
   "outputs": [
    {
     "name": "stdout",
     "output_type": "stream",
     "text": [
      "\n",
      "There are 4 features in the feature set (each feature vector has a value for every feature)\n",
      "Feature names:\n",
      "['sepal-length', 'sepal-width', 'petal-length', 'petal-width']\n",
      "\n",
      "The dataset includes 150 instances (aka feature vectors)\n",
      "first few instances:\n"
     ]
    },
    {
     "data": {
      "text/html": [
       "<div>\n",
       "<style scoped>\n",
       "    .dataframe tbody tr th:only-of-type {\n",
       "        vertical-align: middle;\n",
       "    }\n",
       "\n",
       "    .dataframe tbody tr th {\n",
       "        vertical-align: top;\n",
       "    }\n",
       "\n",
       "    .dataframe thead th {\n",
       "        text-align: right;\n",
       "    }\n",
       "</style>\n",
       "<table border=\"1\" class=\"dataframe\">\n",
       "  <thead>\n",
       "    <tr style=\"text-align: right;\">\n",
       "      <th></th>\n",
       "      <th>sepal-length</th>\n",
       "      <th>sepal-width</th>\n",
       "      <th>petal-length</th>\n",
       "      <th>petal-width</th>\n",
       "    </tr>\n",
       "  </thead>\n",
       "  <tbody>\n",
       "    <tr>\n",
       "      <th>0</th>\n",
       "      <td>5.1</td>\n",
       "      <td>3.5</td>\n",
       "      <td>1.4</td>\n",
       "      <td>0.2</td>\n",
       "    </tr>\n",
       "    <tr>\n",
       "      <th>1</th>\n",
       "      <td>4.9</td>\n",
       "      <td>3.0</td>\n",
       "      <td>1.4</td>\n",
       "      <td>0.2</td>\n",
       "    </tr>\n",
       "    <tr>\n",
       "      <th>2</th>\n",
       "      <td>4.7</td>\n",
       "      <td>3.2</td>\n",
       "      <td>1.3</td>\n",
       "      <td>0.2</td>\n",
       "    </tr>\n",
       "    <tr>\n",
       "      <th>3</th>\n",
       "      <td>4.6</td>\n",
       "      <td>3.1</td>\n",
       "      <td>1.5</td>\n",
       "      <td>0.2</td>\n",
       "    </tr>\n",
       "    <tr>\n",
       "      <th>4</th>\n",
       "      <td>5.0</td>\n",
       "      <td>3.6</td>\n",
       "      <td>1.4</td>\n",
       "      <td>0.2</td>\n",
       "    </tr>\n",
       "  </tbody>\n",
       "</table>\n",
       "</div>"
      ],
      "text/plain": [
       "   sepal-length  sepal-width  petal-length  petal-width\n",
       "0           5.1          3.5           1.4          0.2\n",
       "1           4.9          3.0           1.4          0.2\n",
       "2           4.7          3.2           1.3          0.2\n",
       "3           4.6          3.1           1.5          0.2\n",
       "4           5.0          3.6           1.4          0.2"
      ]
     },
     "execution_count": 18,
     "metadata": {},
     "output_type": "execute_result"
    }
   ],
   "source": [
    "# --------------------------------------------------------\n",
    "# NO IMPLEMENTAION - DO NO CHANGE - RUN ONLY\n",
    "# --------------------------------------------------------\n",
    "\n",
    "# --------------------------------------------------------\n",
    "# load dataframe from csv:\n",
    "# --------------------------------------------------------\n",
    "irisCsvFileName = 'data' + os.sep + 'iris_fearures.csv'\n",
    "df_iris_features = pd.read_csv(irisCsvFileName)\n",
    "\n",
    "# --------------------------------------------------------\n",
    "# display the feature information:\n",
    "# --------------------------------------------------------\n",
    "print ('\\nThere are %d features in the feature set (each feature vector has a value for every feature)' %(df_iris_features.shape[1]))\n",
    "featureNames = [col for col in df_iris_features.columns]\n",
    "print('Feature names:')\n",
    "print(featureNames)\n",
    "# --------------------------------------------------------\n",
    "# display the first few rows of the dataset vectors:\n",
    "# --------------------------------------------------------\n",
    "print('\\nThe dataset includes %d instances (aka feature vectors)' %(df_iris_features.shape[0]))\n",
    "print('first few instances:')\n",
    "df_iris_features.head()\n",
    "# --------------------------------------------------------"
   ]
  },
  {
   "cell_type": "markdown",
   "metadata": {},
   "source": [
    "## Part 3 - column statistics (mean and std) ----> needs stundent implementation - 4 point"
   ]
  },
  {
   "cell_type": "markdown",
   "metadata": {},
   "source": [
    "<u>Part 3 - statistics (3a - mean)</u> ----> needs stundent implementation - 2 point<br/>\n",
    "<u>method name</u>: <b>calc_column_mean</b><br/>\n",
    "\n",
    "<pre>\n",
    "The following is expected:\n",
    "- write a function which calculate the mean value of a specific column \n",
    "------------\n",
    "input parameters:\n",
    "- 'dataframe' - the input dataframe, including the column to be scaled\n",
    "- 'colName' - the column name, of the column which should be scaled (describes column name from input)\n",
    "------------\n",
    "return value:\n",
    "- the mean value of the input column\n",
    "---------------------\n",
    "---------------------\n",
    "--- General notes:\n",
    "Don't forget to remove the 'raise NotImplementedError()' line.\n",
    "In the line following the '# YOUR CODE HERE' line, add your code\n",
    "---------------------\n",
    "</pre>"
   ]
  },
  {
   "cell_type": "code",
   "execution_count": 19,
   "metadata": {
    "deletable": false,
    "nbgrader": {
     "cell_type": "code",
     "checksum": "6304ee4522bac23f7fda68d12b67851c",
     "grade": false,
     "grade_id": "calc_column_mean-answer",
     "locked": false,
     "schema_version": 3,
     "solution": true,
     "task": false
    }
   },
   "outputs": [],
   "source": [
    "# --------------------------------------------------------\n",
    "# IMPLEMENTATION CELL\n",
    "# --------------------------------------------------------\n",
    "\n",
    "# --------------------------------------------------------\n",
    "# YOU MUST RUN THIS NOTEBOOK CELL\n",
    "# --------------------------------------------------------\n",
    "\n",
    "# --------------------------------------------------------\n",
    "# Grading - Maximum points: 2\n",
    "# --------------------------------------------------------\n",
    "\n",
    "# --------------------------------------------------------\n",
    "# method name: calc_column_mean\n",
    "# --------------------------------------------------------\n",
    "def calc_column_mean(dataframe, colName):\n",
    "    # YOUR CODE HERE\n",
    "    return dataframe[colName].sum() / dataframe[colName].size"
   ]
  },
  {
   "cell_type": "markdown",
   "metadata": {},
   "source": [
    "<u>Part 3a mean - <b>test</b></u> (2 points)<br/>\n",
    "* Test of the 'calc_column_mean' method implementation  \n",
    "\n",
    "<u>Important Notes</u>:<br/>\n",
    "* This test cell MUST NOT raise any exception\n",
    "* It must pass all tests \n",
    "* Do NOT change or delete this cell"
   ]
  },
  {
   "cell_type": "code",
   "execution_count": 20,
   "metadata": {
    "deletable": false,
    "editable": false,
    "nbgrader": {
     "cell_type": "code",
     "checksum": "548854cc6c4cfc0c9eb97460fbbd5ff2",
     "grade": true,
     "grade_id": "test-calc_column_mean",
     "locked": true,
     "points": 2,
     "schema_version": 3,
     "solution": false,
     "task": false
    }
   },
   "outputs": [
    {
     "name": "stdout",
     "output_type": "stream",
     "text": [
      "test implementation of the 'calc_column_mean' method ...\n",
      "checking for the mean value of the first column ... \n",
      "\tmean value: 5.843333\n",
      "----> The 'calc_column_mean' test passed successfully :-) \n",
      "\n",
      "note: Additional Tests might be executed on our side\n"
     ]
    }
   ],
   "source": [
    "# --------------------------------------------------------\n",
    "# TEST ONLY CELL - DO NO CHANGE - RUN ONLY\n",
    "# --------------------------------------------------------\n",
    "\n",
    "# --------------------------------------------------------\n",
    "# Test the:\n",
    "## 'calc_column_mean' method implementation \n",
    "# --------------------------------------------------------\n",
    "\n",
    "print (\"test implementation of the 'calc_column_mean' method ...\") \n",
    "\n",
    "irisCsvFileName = 'data' + os.sep + 'iris_fearures.csv'\n",
    "df_iris_features = pd.read_csv(irisCsvFileName)\n",
    "col0 = df_iris_features.columns[0]\n",
    "\n",
    "# --------------------------------------------------------\n",
    "print (\"checking for the mean value of the first column ... \")\n",
    "meanCol0=calc_column_mean(df_iris_features, col0)\n",
    "assert int (100*meanCol0) == 584, \"mean value is not calculated successfully\"\n",
    "print (\"\\tmean value: %f\" %(meanCol0))\n",
    "# --------------------------------------------------------\n",
    "# if no exception was thrown by this point, the student side tests were successful:\n",
    "print (\"----> The 'calc_column_mean' test passed successfully :-) \\n\")\n",
    "\n",
    "print ('note: Additional Tests might be executed on our side')  "
   ]
  },
  {
   "cell_type": "markdown",
   "metadata": {},
   "source": [
    "<u>Part 3 - statistics (3b - std)</u> ----> needs stundent implementation - 2 point<br/>\n",
    "<u>method name</u>: <b>calc_column_std</b><br/>\n",
    "\n",
    "<pre>\n",
    "The following is expected:\n",
    "- write a function which calculate the standard diviation (std) value of a specific column \n",
    "------------\n",
    "input parameters:\n",
    "- 'dataframe' - the input dataframe, including the column to be scaled\n",
    "- 'colName' - the column name, of the column which should be scaled (describes column name from input)\n",
    "------------\n",
    "return value:\n",
    "- the std value of the input column\n",
    "---------------------\n",
    "---------------------\n",
    "--- General notes:\n",
    "Don't forget to remove the 'raise NotImplementedError()' line.\n",
    "In the line following the '# YOUR CODE HERE' line, add your code\n",
    "---------------------\n",
    "</pre>"
   ]
  },
  {
   "cell_type": "code",
   "execution_count": 21,
   "metadata": {
    "deletable": false,
    "nbgrader": {
     "cell_type": "code",
     "checksum": "ef0d2337e3387b00946b865541703e3a",
     "grade": false,
     "grade_id": "calc_column_std-answer",
     "locked": false,
     "schema_version": 3,
     "solution": true,
     "task": false
    }
   },
   "outputs": [],
   "source": [
    "# --------------------------------------------------------\n",
    "# IMPLEMENTATION CELL\n",
    "# --------------------------------------------------------\n",
    "\n",
    "# --------------------------------------------------------\n",
    "# YOU MUST RUN THIS NOTEBOOK CELL\n",
    "# --------------------------------------------------------\n",
    "\n",
    "# --------------------------------------------------------\n",
    "# Grading - Maximum points: 2\n",
    "# --------------------------------------------------------\n",
    "\n",
    "# --------------------------------------------------------\n",
    "# method name: calc_column_std\n",
    "# --------------------------------------------------------\n",
    "def calc_column_std(dataframe, colName):\n",
    "    # YOUR CODE HERE\n",
    "    std = 0\n",
    "    mean = calc_column_mean(dataframe, colName)\n",
    "    \n",
    "    for x_value in dataframe[colName]:\n",
    "        std = std + ((x_value - mean)**2)\n",
    "    \n",
    "    std = (std / (dataframe[colName].size - 1))**0.5\n",
    "    return std\n",
    "    "
   ]
  },
  {
   "cell_type": "markdown",
   "metadata": {},
   "source": [
    "<u>Part 3b std - <b>test</b></u> (2 points)<br/>\n",
    "* Test of the 'calc_column_std' method implementation  \n",
    "\n",
    "<u>Important Notes</u>:<br/>\n",
    "* This test cell MUST NOT raise any exception\n",
    "* It must pass all tests \n",
    "* Do NOT change or delete this cell"
   ]
  },
  {
   "cell_type": "code",
   "execution_count": 22,
   "metadata": {
    "deletable": false,
    "editable": false,
    "nbgrader": {
     "cell_type": "code",
     "checksum": "078e4f7e51363dd3287934dec6b0864b",
     "grade": true,
     "grade_id": "test-calc_column_std",
     "locked": true,
     "points": 2,
     "schema_version": 3,
     "solution": false,
     "task": false
    }
   },
   "outputs": [
    {
     "name": "stdout",
     "output_type": "stream",
     "text": [
      "test implementation of the 'calc_column_std' method ...\n",
      "checking for the std value of the first column ... \n",
      "\tstd value: 0.828066\n",
      "----> The 'calc_column_std' test passed successfully :-) \n",
      "\n",
      "note: Additional Tests might be executed on our side\n"
     ]
    }
   ],
   "source": [
    "# --------------------------------------------------------\n",
    "# TEST ONLY CELL - DO NO CHANGE - RUN ONLY\n",
    "# --------------------------------------------------------\n",
    "\n",
    "# --------------------------------------------------------\n",
    "# Test the:\n",
    "## 'calc_column_std' method implementation \n",
    "# --------------------------------------------------------\n",
    "\n",
    "print (\"test implementation of the 'calc_column_std' method ...\") \n",
    "\n",
    "irisCsvFileName = 'data' + os.sep + 'iris_fearures.csv'\n",
    "df_iris_features = pd.read_csv(irisCsvFileName)\n",
    "col0 = df_iris_features.columns[0]\n",
    "\n",
    "# --------------------------------------------------------\n",
    "print (\"checking for the std value of the first column ... \")\n",
    "stdCol0=calc_column_std(df_iris_features, col0)\n",
    "assert int (100*stdCol0) == 82, \"std value is not calculated successfully\"\n",
    "print (\"\\tstd value: %f\" %(stdCol0))\n",
    "# --------------------------------------------------------\n",
    "# if no exception was thrown by this point, the student side tests were successful:\n",
    "print (\"----> The 'calc_column_std' test passed successfully :-) \\n\")\n",
    "\n",
    "print ('note: Additional Tests might be executed on our side')  "
   ]
  },
  {
   "cell_type": "markdown",
   "metadata": {},
   "source": [
    "## Part 4 -  scaling ----> needs stundent implementation - 6 point\n",
    "<img src=\"./images/architect-scale.jpg\" alt=\"Scale\" style=\"width: 500px;\" align='left'/>"
   ]
  },
  {
   "cell_type": "markdown",
   "metadata": {},
   "source": [
    "### Step 4a - t-distribution Standardizion ----> needs stundent implementation - 3 point\n",
    "t-distribution Standardization refers to shifting the distribution of each attribute to have a mean of zero and a standard deviation of one (unit variance)."
   ]
  },
  {
   "cell_type": "markdown",
   "metadata": {},
   "source": [
    "<u>Part 4 - Scaling (4a - t-distribution Standardizion)</u>:<br/>\n",
    "<u>method name</u>: <b>standardizeColumn</b><br/>\n",
    "\n",
    "<pre>\n",
    "The following is expected:\n",
    "- write a function which scales a specific colum in a dataframe, using the t-distribution Standardizion.\n",
    "- the function will recieve the dataframe, including the column to be scaled\n",
    "- the function will return a dataframe including a scaled column\n",
    "------------\n",
    "input parameters:\n",
    "- 'dataframe' - the input dataframe, including the column to be scaled\n",
    "- 'colName' - the column name, of the column which should be scaled (describes column name from input)\n",
    "- 'standardizedColName' - the column name, of the scaled column  (describes the new output column name)\n",
    "------------\n",
    "return value:\n",
    "- a dataframe structure containing new column with the scaled data (as well as the original columns)\n",
    "---------------------\n",
    "---------------------\n",
    "--- General notes:\n",
    "Don't forget to remove the 'raise NotImplementedError()' line.\n",
    "In the line following the '# YOUR CODE HERE' line, add your code\n",
    "---------------------\n",
    "</pre>"
   ]
  },
  {
   "cell_type": "code",
   "execution_count": 23,
   "metadata": {
    "deletable": false,
    "nbgrader": {
     "cell_type": "code",
     "checksum": "76b17bb2aa779baa173ea02f6f20915c",
     "grade": false,
     "grade_id": "standardizeColumn-answer",
     "locked": false,
     "schema_version": 3,
     "solution": true,
     "task": false
    }
   },
   "outputs": [],
   "source": [
    "# --------------------------------------------------------\n",
    "# IMPLEMENTATION CELL\n",
    "# --------------------------------------------------------\n",
    "\n",
    "# --------------------------------------------------------\n",
    "# YOU MUST RUN THIS NOTEBOOK CELL\n",
    "# --------------------------------------------------------\n",
    "\n",
    "# --------------------------------------------------------\n",
    "# Grading - Maximum points: 4\n",
    "# --------------------------------------------------------\n",
    "\n",
    "# --------------------------------------------------------\n",
    "# method name: standardizeColumn\n",
    "# --------------------------------------------------------\n",
    "def standardizeColumn(dataframe, colName, standardizedColName):\n",
    "    colMean = calc_column_mean(dataframe, colName)\n",
    "    colStd = calc_column_std(dataframe, colName)\n",
    "    \n",
    "    dataframe[standardizedColName] = (dataframe[colName] - colMean) / colStd\n",
    "    return dataframe"
   ]
  },
  {
   "cell_type": "markdown",
   "metadata": {},
   "source": [
    "<u>Part 4a - t-distribution Standardizion scaling - <b>test</b></u> (3 points)<br/>\n",
    "* Test of the 'standardizeColumn' method implementation  \n",
    "\n",
    "<u>Important Notes</u>:<br/>\n",
    "* This test cell MUST NOT raise any exception\n",
    "* It must pass all tests \n",
    "* Do NOT change or delete this cell"
   ]
  },
  {
   "cell_type": "code",
   "execution_count": 24,
   "metadata": {
    "deletable": false,
    "editable": false,
    "nbgrader": {
     "cell_type": "code",
     "checksum": "3a8db496d224223ce67b75f7e19c612f",
     "grade": true,
     "grade_id": "test-standardizeColumn",
     "locked": true,
     "points": 3,
     "schema_version": 3,
     "solution": false,
     "task": false
    }
   },
   "outputs": [
    {
     "name": "stdout",
     "output_type": "stream",
     "text": [
      "test implementation of the 'standardizeColumn' method ...\n",
      "checking if a new column was created ...\n",
      "\t standardization column created successfully\n",
      "checking the first three standardized values of the first column ... \n",
      "\tvalues were standardtized successfully\n",
      "----> The 'standardizeColumn' test passed successfully :-) \n",
      "\n",
      "note: Additional Tests might be executed on our side\n"
     ]
    },
    {
     "data": {
      "text/html": [
       "<div>\n",
       "<style scoped>\n",
       "    .dataframe tbody tr th:only-of-type {\n",
       "        vertical-align: middle;\n",
       "    }\n",
       "\n",
       "    .dataframe tbody tr th {\n",
       "        vertical-align: top;\n",
       "    }\n",
       "\n",
       "    .dataframe thead th {\n",
       "        text-align: right;\n",
       "    }\n",
       "</style>\n",
       "<table border=\"1\" class=\"dataframe\">\n",
       "  <thead>\n",
       "    <tr style=\"text-align: right;\">\n",
       "      <th></th>\n",
       "      <th>sepal-length</th>\n",
       "      <th>sepal-length_standardized</th>\n",
       "    </tr>\n",
       "  </thead>\n",
       "  <tbody>\n",
       "    <tr>\n",
       "      <th>0</th>\n",
       "      <td>5.1</td>\n",
       "      <td>-0.897674</td>\n",
       "    </tr>\n",
       "    <tr>\n",
       "      <th>1</th>\n",
       "      <td>4.9</td>\n",
       "      <td>-1.139200</td>\n",
       "    </tr>\n",
       "    <tr>\n",
       "      <th>2</th>\n",
       "      <td>4.7</td>\n",
       "      <td>-1.380727</td>\n",
       "    </tr>\n",
       "    <tr>\n",
       "      <th>3</th>\n",
       "      <td>4.6</td>\n",
       "      <td>-1.501490</td>\n",
       "    </tr>\n",
       "    <tr>\n",
       "      <th>4</th>\n",
       "      <td>5.0</td>\n",
       "      <td>-1.018437</td>\n",
       "    </tr>\n",
       "  </tbody>\n",
       "</table>\n",
       "</div>"
      ],
      "text/plain": [
       "   sepal-length  sepal-length_standardized\n",
       "0           5.1                  -0.897674\n",
       "1           4.9                  -1.139200\n",
       "2           4.7                  -1.380727\n",
       "3           4.6                  -1.501490\n",
       "4           5.0                  -1.018437"
      ]
     },
     "execution_count": 24,
     "metadata": {},
     "output_type": "execute_result"
    }
   ],
   "source": [
    "# --------------------------------------------------------\n",
    "# TEST ONLY CELL - DO NO CHANGE - RUN ONLY\n",
    "# --------------------------------------------------------\n",
    "\n",
    "# --------------------------------------------------------\n",
    "# Test the:\n",
    "## 'calc_column_std' method implementation \n",
    "# --------------------------------------------------------\n",
    "\n",
    "print (\"test implementation of the 'standardizeColumn' method ...\") \n",
    "\n",
    "irisCsvFileName = 'data' + os.sep + 'iris_fearures.csv'\n",
    "df_iris_features = pd.read_csv(irisCsvFileName)\n",
    "col0 = df_iris_features.columns[0]\n",
    "# --------------------------------------------------------\n",
    "print (\"checking if a new column was created ...\")\n",
    "df_iris_features_scaled = standardizeColumn(df_iris_features,col0,col0+'_standardized')\n",
    "assert col0+'_standardized' in df_iris_features_scaled.columns, 'standardization column was NOT created successfully'\n",
    "print (\"\\t standardization column created successfully\")\n",
    "print (\"checking the first three standardized values of the first column ... \")\n",
    "assert df_iris_features_scaled[col0+'_standardized'].apply(lambda x: float(int(x*1000))/1000).head().tolist()[:3]==[-0.897, -1.139, -1.38], \"values were NOT standardizatized successfully\"\n",
    "print (\"\\tvalues were standardtized successfully\")\n",
    "# --------------------------------------------------------\n",
    "# if no exception was thrown by this point, the student side tests were successful:\n",
    "print (\"----> The 'standardizeColumn' test passed successfully :-) \\n\")\n",
    "\n",
    "print ('note: Additional Tests might be executed on our side')  \n",
    "# --------------------------------------------------------\n",
    "df_iris_features[[col0,col0+'_standardized']].head()\n"
   ]
  },
  {
   "cell_type": "markdown",
   "metadata": {},
   "source": [
    "### Step 4b - Minmax Normalization ----> needs stundent implementation - 3 point\n",
    "Minmax Normalization refers to rescaling real valued numeric attributes into the range 0 and 1."
   ]
  },
  {
   "cell_type": "markdown",
   "metadata": {},
   "source": [
    "<u>Part 4 - Scaling (4b - Minmax Normalization)</u>:<br/>\n",
    "<u>method name</u>: <b>normalizeColumn</b><br/>\n",
    "\n",
    "<pre>\n",
    "The following is expected:\n",
    "- write a function which scales a specific colum in a dataframe, using the minmax normalization.\n",
    "- the function will recieve the dataframe, including the column to be scaled\n",
    "- the function will return a dataframe including a scaled column\n",
    "------------\n",
    "input parameters:\n",
    "- 'dataframe' - the input dataframe, including the column to be scaled\n",
    "- 'colName' - the column name, of the column which should be scaled (describes column name from input)\n",
    "- 'normalizedColName' - the column name, of the scaled column  (describes the new output column name)\n",
    "------------\n",
    "return value:\n",
    "- a dataframe structure containing new column with the scaled data (as well as the original columns)\n",
    "---------------------\n",
    "---------------------\n",
    "--- General notes:\n",
    "Don't forget to remove the 'raise NotImplementedError()' line.\n",
    "In the line following the '# YOUR CODE HERE' line, add your code\n",
    "---------------------\n",
    "</pre>"
   ]
  },
  {
   "cell_type": "code",
   "execution_count": 25,
   "metadata": {
    "deletable": false,
    "nbgrader": {
     "cell_type": "code",
     "checksum": "c4d5b3f9ea5436ef214d9145df9e3e99",
     "grade": false,
     "grade_id": "normalizeColumn-answer",
     "locked": false,
     "schema_version": 3,
     "solution": true,
     "task": false
    }
   },
   "outputs": [],
   "source": [
    "# --------------------------------------------------------\n",
    "# IMPLEMENTATION CELL\n",
    "# --------------------------------------------------------\n",
    "\n",
    "# --------------------------------------------------------\n",
    "# YOU MUST RUN THIS NOTEBOOK CELL\n",
    "# --------------------------------------------------------\n",
    "\n",
    "# --------------------------------------------------------\n",
    "# Grading - Maximum points: 3\n",
    "# --------------------------------------------------------\n",
    "\n",
    "# --------------------------------------------------------\n",
    "# method name: normalizeColumn\n",
    "# --------------------------------------------------------\n",
    "def normalizeColumn(dataframe, colName, normalizedColName):\n",
    "    maxValue = dataframe[colName].max()\n",
    "    minValue = dataframe[colName].min()\n",
    "    dataframe[normalizedColName] = (dataframe[colName] - minValue) / (maxValue - minValue)\n",
    "    return dataframe"
   ]
  },
  {
   "cell_type": "markdown",
   "metadata": {},
   "source": [
    "<u>Part 4a - Minmax Normalization scaling - <b>test</b></u> (3 points)<br/>\n",
    "* Test of the 'normalizeColumn' method implementation  \n",
    "\n",
    "<u>Important Notes</u>:<br/>\n",
    "* This test cell MUST NOT raise any exception\n",
    "* It must pass all tests \n",
    "* Do NOT change or delete this cell"
   ]
  },
  {
   "cell_type": "code",
   "execution_count": 26,
   "metadata": {
    "deletable": false,
    "editable": false,
    "nbgrader": {
     "cell_type": "code",
     "checksum": "88e4b602d41846be9320bbfb35fd3968",
     "grade": true,
     "grade_id": "normalizeColumn-test",
     "locked": true,
     "points": 3,
     "schema_version": 3,
     "solution": false,
     "task": false
    }
   },
   "outputs": [
    {
     "name": "stdout",
     "output_type": "stream",
     "text": [
      "test implementation of the 'normalizeColumn' method ...\n",
      "checking if a new column was created ...\n",
      "\t normalization column created successfully\n",
      "checking the first three normalized values of the third column ... \n",
      "\t values normalized successfully\n",
      "----> The 'normalizeColumn' test passed successfully :-) \n",
      "\n",
      "note: Additional Tests might be executed on our side\n"
     ]
    },
    {
     "data": {
      "text/html": [
       "<div>\n",
       "<style scoped>\n",
       "    .dataframe tbody tr th:only-of-type {\n",
       "        vertical-align: middle;\n",
       "    }\n",
       "\n",
       "    .dataframe tbody tr th {\n",
       "        vertical-align: top;\n",
       "    }\n",
       "\n",
       "    .dataframe thead th {\n",
       "        text-align: right;\n",
       "    }\n",
       "</style>\n",
       "<table border=\"1\" class=\"dataframe\">\n",
       "  <thead>\n",
       "    <tr style=\"text-align: right;\">\n",
       "      <th></th>\n",
       "      <th>petal-length</th>\n",
       "      <th>petal-length_normalized</th>\n",
       "    </tr>\n",
       "  </thead>\n",
       "  <tbody>\n",
       "    <tr>\n",
       "      <th>0</th>\n",
       "      <td>1.4</td>\n",
       "      <td>0.067797</td>\n",
       "    </tr>\n",
       "    <tr>\n",
       "      <th>1</th>\n",
       "      <td>1.4</td>\n",
       "      <td>0.067797</td>\n",
       "    </tr>\n",
       "    <tr>\n",
       "      <th>2</th>\n",
       "      <td>1.3</td>\n",
       "      <td>0.050847</td>\n",
       "    </tr>\n",
       "    <tr>\n",
       "      <th>3</th>\n",
       "      <td>1.5</td>\n",
       "      <td>0.084746</td>\n",
       "    </tr>\n",
       "    <tr>\n",
       "      <th>4</th>\n",
       "      <td>1.4</td>\n",
       "      <td>0.067797</td>\n",
       "    </tr>\n",
       "  </tbody>\n",
       "</table>\n",
       "</div>"
      ],
      "text/plain": [
       "   petal-length  petal-length_normalized\n",
       "0           1.4                 0.067797\n",
       "1           1.4                 0.067797\n",
       "2           1.3                 0.050847\n",
       "3           1.5                 0.084746\n",
       "4           1.4                 0.067797"
      ]
     },
     "execution_count": 26,
     "metadata": {},
     "output_type": "execute_result"
    }
   ],
   "source": [
    "# --------------------------------------------------------\n",
    "# TEST ONLY CELL - DO NO CHANGE - RUN ONLY\n",
    "# --------------------------------------------------------\n",
    "\n",
    "print (\"test implementation of the 'normalizeColumn' method ...\") \n",
    "\n",
    "irisCsvFileName = 'data' + os.sep + 'iris_fearures.csv'\n",
    "df_iris_features = pd.read_csv(irisCsvFileName)\n",
    "col2 = df_iris_features.columns[2]\n",
    "\n",
    "# --------------------------------------------------------\n",
    "df_iris_features_scaled = normalizeColumn(df_iris_features,col2,col2+'_normalized')\n",
    "print (\"checking if a new column was created ...\")\n",
    "assert col2+'_normalized' in df_iris_features_scaled.columns,'normalization column was NOT created successfully'\n",
    "print (\"\\t normalization column created successfully\")\n",
    "\n",
    "print (\"checking the first three normalized values of the third column ... \")\n",
    "assert df_iris_features_scaled[col2+'_normalized'].apply(lambda x: float(int(x*1000))/1000).head().tolist()[:3] == [0.067, 0.067, 0.05], \"values were NOT normalized successfully\"\n",
    "print (\"\\t values normalized successfully\")\n",
    "# --------------------------------------------------------\n",
    "# if no exception was thrown by this point, the student side tests were successful:\n",
    "print (\"----> The 'normalizeColumn' test passed successfully :-) \\n\")\n",
    "\n",
    "print ('note: Additional Tests might be executed on our side')  \n",
    "# --------------------------------------------------------\n",
    "df_iris_features_scaled[[col2,col2+'_normalized']].head()\n"
   ]
  }
 ],
 "metadata": {
  "kernelspec": {
   "display_name": "Python 3",
   "language": "python",
   "name": "python3"
  },
  "language_info": {
   "codemirror_mode": {
    "name": "ipython",
    "version": 3
   },
   "file_extension": ".py",
   "mimetype": "text/x-python",
   "name": "python",
   "nbconvert_exporter": "python",
   "pygments_lexer": "ipython3",
   "version": "3.7.6"
  }
 },
 "nbformat": 4,
 "nbformat_minor": 2
}
